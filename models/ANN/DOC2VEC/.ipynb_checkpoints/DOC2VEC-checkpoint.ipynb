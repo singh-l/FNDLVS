{
 "cells": [
  {
   "cell_type": "code",
   "execution_count": 1,
   "metadata": {},
   "outputs": [],
   "source": [
    "#make necessary imports\n",
    "from getEmbeddings import getEmbeddings\n",
    "import numpy as np\n",
    "import itertools\n",
    "from sklearn.metrics import accuracy_score, confusion_matrix\n",
    "from sklearn.ensemble import RandomForestClassifier\n",
    "from sklearn.neighbors import KNeighborsClassifier\n",
    "from sklearn.svm import SVC\n",
    "from sklearn.linear_model import LogisticRegression\n",
    "from sklearn.model_selection import train_test_split\n",
    "from sklearn.preprocessing import StandardScaler\n",
    "### we start with the liar dataset\n",
    "\n",
    "import numpy as np\n",
    "import pandas as pd"
   ]
  },
  {
   "cell_type": "code",
   "execution_count": 2,
   "metadata": {},
   "outputs": [],
   "source": [
    "# start with the liar set"
   ]
  },
  {
   "cell_type": "code",
   "execution_count": 3,
   "metadata": {},
   "outputs": [],
   "source": [
    "#get the dataset\n",
    "#get the dataset, use getembeddings to get the Doc2Vec representations, it gives 300 dimension vectors\n",
    "x_train,y_train = getEmbeddings('../../../datasets/liar_tweaked/trainvectordata.csv')\n",
    "x_test,y_test = getEmbeddings('../../../datasets/liar_tweaked/testvectordata.csv')\n",
    "x_valid,y_valid = getEmbeddings('../../../datasets/liar_tweaked/validvectordata.csv')"
   ]
  },
  {
   "cell_type": "code",
   "execution_count": 4,
   "metadata": {},
   "outputs": [],
   "source": [
    "x_test = (np.concatenate([x_test,x_valid]))"
   ]
  },
  {
   "cell_type": "code",
   "execution_count": 5,
   "metadata": {},
   "outputs": [],
   "source": [
    "y_test = (np.concatenate([y_test,y_valid]))"
   ]
  },
  {
   "cell_type": "code",
   "execution_count": 6,
   "metadata": {},
   "outputs": [],
   "source": [
    "#building the classifier\n",
    "def build_classifier():\n",
    "    clf=Sequential()\n",
    "    clf.add(Dense(output_dim=500,init='uniform',activation='relu',input_dim=300))\n",
    "    clf.add(Dense(output_dim=100,init='uniform',activation='relu'))\n",
    "    clf.add(Dense(output_dim=50,init='uniform',activation='relu'))\n",
    "    clf.add(Dense(output_dim=20,init='uniform',activation='relu'))\n",
    "    clf.add(Dense(output_dim=10,init='uniform',activation='relu'))\n",
    "    clf.add(Dense(output_dim=5,init='uniform',activation='relu'))\n",
    "    clf.add(Dense(output_dim=1,init='uniform',activation='sigmoid'))\n",
    "    clf.compile(optimizer='adam', loss='binary_crossentropy',metrics=['accuracy'])\n",
    "    return clf"
   ]
  },
  {
   "cell_type": "code",
   "execution_count": 7,
   "metadata": {},
   "outputs": [
    {
     "name": "stderr",
     "output_type": "stream",
     "text": [
      "Using TensorFlow backend.\n"
     ]
    },
    {
     "ename": "NameError",
     "evalue": "name 'tfidf_train' is not defined",
     "output_type": "error",
     "traceback": [
      "\u001b[0;31m---------------------------------------------------------------------------\u001b[0m",
      "\u001b[0;31mNameError\u001b[0m                                 Traceback (most recent call last)",
      "\u001b[0;32m<ipython-input-7-6b10f94a955a>\u001b[0m in \u001b[0;36m<module>\u001b[0;34m\u001b[0m\n\u001b[1;32m      8\u001b[0m \u001b[0;31m#build ANN, use k fold cross validation\u001b[0m\u001b[0;34m\u001b[0m\u001b[0;34m\u001b[0m\u001b[0;34m\u001b[0m\u001b[0m\n\u001b[1;32m      9\u001b[0m \u001b[0mclf\u001b[0m\u001b[0;34m=\u001b[0m\u001b[0mKerasClassifier\u001b[0m\u001b[0;34m(\u001b[0m\u001b[0mbuild_fn\u001b[0m\u001b[0;34m=\u001b[0m\u001b[0mbuild_classifier\u001b[0m\u001b[0;34m,\u001b[0m \u001b[0mbatch_size\u001b[0m\u001b[0;34m=\u001b[0m\u001b[0;36m10\u001b[0m\u001b[0;34m,\u001b[0m \u001b[0mnb_epoch\u001b[0m\u001b[0;34m=\u001b[0m\u001b[0;36m100\u001b[0m\u001b[0;34m)\u001b[0m\u001b[0;34m\u001b[0m\u001b[0;34m\u001b[0m\u001b[0m\n\u001b[0;32m---> 10\u001b[0;31m \u001b[0maccuracies\u001b[0m\u001b[0;34m=\u001b[0m\u001b[0mcross_val_score\u001b[0m\u001b[0;34m(\u001b[0m\u001b[0mestimator\u001b[0m\u001b[0;34m=\u001b[0m\u001b[0mclf\u001b[0m\u001b[0;34m,\u001b[0m \u001b[0mX\u001b[0m\u001b[0;34m=\u001b[0m\u001b[0mtfidf_train\u001b[0m\u001b[0;34m,\u001b[0m\u001b[0my\u001b[0m\u001b[0;34m=\u001b[0m\u001b[0mY_train\u001b[0m\u001b[0;34m,\u001b[0m\u001b[0mcv\u001b[0m\u001b[0;34m=\u001b[0m\u001b[0;36m10\u001b[0m\u001b[0;34m,\u001b[0m\u001b[0mn_jobs\u001b[0m\u001b[0;34m=\u001b[0m\u001b[0;34m-\u001b[0m\u001b[0;36m1\u001b[0m\u001b[0;34m)\u001b[0m\u001b[0;34m\u001b[0m\u001b[0;34m\u001b[0m\u001b[0m\n\u001b[0m",
      "\u001b[0;31mNameError\u001b[0m: name 'tfidf_train' is not defined"
     ]
    }
   ],
   "source": [
    "#make necessary imports\n",
    "import keras\n",
    "from keras.models import Sequential\n",
    "from keras.layers import Dense\n",
    "from keras.wrappers.scikit_learn import KerasClassifier\n",
    "from sklearn.model_selection import cross_val_score\n",
    "\n",
    "#build ANN, use k fold cross validation\n",
    "clf=KerasClassifier(build_fn=build_classifier, batch_size=10, nb_epoch=100)\n",
    "accuracies=cross_val_score(estimator=clf, X=tfidf_train,y=Y_train,cv=10,n_jobs=-1)"
   ]
  },
  {
   "cell_type": "code",
   "execution_count": 8,
   "metadata": {},
   "outputs": [
    {
     "name": "stderr",
     "output_type": "stream",
     "text": [
      "/Users/lovedeepsingh/anaconda3/lib/python3.7/site-packages/ipykernel_launcher.py:4: UserWarning: Update your `Dense` call to the Keras 2 API: `Dense(activation=\"relu\", input_dim=300, units=500, kernel_initializer=\"uniform\")`\n",
      "  after removing the cwd from sys.path.\n",
      "/Users/lovedeepsingh/anaconda3/lib/python3.7/site-packages/ipykernel_launcher.py:5: UserWarning: Update your `Dense` call to the Keras 2 API: `Dense(activation=\"relu\", units=100, kernel_initializer=\"uniform\")`\n",
      "  \"\"\"\n",
      "/Users/lovedeepsingh/anaconda3/lib/python3.7/site-packages/ipykernel_launcher.py:6: UserWarning: Update your `Dense` call to the Keras 2 API: `Dense(activation=\"relu\", units=50, kernel_initializer=\"uniform\")`\n",
      "  \n",
      "/Users/lovedeepsingh/anaconda3/lib/python3.7/site-packages/ipykernel_launcher.py:7: UserWarning: Update your `Dense` call to the Keras 2 API: `Dense(activation=\"relu\", units=20, kernel_initializer=\"uniform\")`\n",
      "  import sys\n",
      "/Users/lovedeepsingh/anaconda3/lib/python3.7/site-packages/ipykernel_launcher.py:8: UserWarning: Update your `Dense` call to the Keras 2 API: `Dense(activation=\"relu\", units=10, kernel_initializer=\"uniform\")`\n",
      "  \n",
      "/Users/lovedeepsingh/anaconda3/lib/python3.7/site-packages/ipykernel_launcher.py:9: UserWarning: Update your `Dense` call to the Keras 2 API: `Dense(activation=\"relu\", units=5, kernel_initializer=\"uniform\")`\n",
      "  if __name__ == '__main__':\n",
      "/Users/lovedeepsingh/anaconda3/lib/python3.7/site-packages/ipykernel_launcher.py:10: UserWarning: Update your `Dense` call to the Keras 2 API: `Dense(activation=\"sigmoid\", units=1, kernel_initializer=\"uniform\")`\n",
      "  # Remove the CWD from sys.path while we load stuff.\n"
     ]
    },
    {
     "name": "stdout",
     "output_type": "stream",
     "text": [
      "Train on 10229 samples, validate on 2551 samples\n",
      "Epoch 1/20\n",
      "10229/10229 [==============================] - 19s 2ms/step - loss: 0.6866 - accuracy: 0.5615 - val_loss: 0.6901 - val_accuracy: 0.5417\n",
      "Epoch 2/20\n",
      "10229/10229 [==============================] - 20s 2ms/step - loss: 0.6855 - accuracy: 0.5619 - val_loss: 0.6929 - val_accuracy: 0.5417\n",
      "Epoch 3/20\n",
      "10229/10229 [==============================] - 30s 3ms/step - loss: 0.6854 - accuracy: 0.5619 - val_loss: 0.6910 - val_accuracy: 0.5417\n",
      "Epoch 4/20\n",
      "10229/10229 [==============================] - 19s 2ms/step - loss: 0.6854 - accuracy: 0.5619 - val_loss: 0.6915 - val_accuracy: 0.5417\n",
      "Epoch 5/20\n",
      "10229/10229 [==============================] - 18s 2ms/step - loss: 0.6853 - accuracy: 0.5619 - val_loss: 0.6936 - val_accuracy: 0.5417\n",
      "Epoch 6/20\n",
      "10229/10229 [==============================] - 16s 2ms/step - loss: 0.6852 - accuracy: 0.5619 - val_loss: 0.6936 - val_accuracy: 0.5417\n",
      "Epoch 7/20\n",
      "10229/10229 [==============================] - 16s 2ms/step - loss: 0.6852 - accuracy: 0.5619 - val_loss: 0.6920 - val_accuracy: 0.5417\n",
      "Epoch 8/20\n",
      "10229/10229 [==============================] - 17s 2ms/step - loss: 0.6854 - accuracy: 0.5619 - val_loss: 0.6921 - val_accuracy: 0.5417\n",
      "Epoch 9/20\n",
      "10229/10229 [==============================] - 19s 2ms/step - loss: 0.6854 - accuracy: 0.5619 - val_loss: 0.6915 - val_accuracy: 0.5417\n",
      "Epoch 10/20\n",
      "10229/10229 [==============================] - 18s 2ms/step - loss: 0.6853 - accuracy: 0.5619 - val_loss: 0.6925 - val_accuracy: 0.5417\n",
      "Epoch 11/20\n",
      "10229/10229 [==============================] - 21s 2ms/step - loss: 0.6853 - accuracy: 0.5619 - val_loss: 0.6914 - val_accuracy: 0.5417\n",
      "Epoch 12/20\n",
      "10229/10229 [==============================] - 18s 2ms/step - loss: 0.6850 - accuracy: 0.5619 - val_loss: 0.6909 - val_accuracy: 0.5417\n",
      "Epoch 13/20\n",
      "10229/10229 [==============================] - 24s 2ms/step - loss: 0.6853 - accuracy: 0.5619 - val_loss: 0.6960 - val_accuracy: 0.5417\n",
      "Epoch 14/20\n",
      "10229/10229 [==============================] - 21s 2ms/step - loss: 0.6853 - accuracy: 0.5619 - val_loss: 0.6914 - val_accuracy: 0.5417\n",
      "Epoch 15/20\n",
      "10229/10229 [==============================] - 12s 1ms/step - loss: 0.6853 - accuracy: 0.5619 - val_loss: 0.6909 - val_accuracy: 0.5417\n",
      "Epoch 16/20\n",
      "10229/10229 [==============================] - 19s 2ms/step - loss: 0.6852 - accuracy: 0.5619 - val_loss: 0.6910 - val_accuracy: 0.5417\n",
      "Epoch 17/20\n",
      "10229/10229 [==============================] - 14s 1ms/step - loss: 0.6852 - accuracy: 0.5619 - val_loss: 0.6922 - val_accuracy: 0.5417\n",
      "Epoch 18/20\n",
      "10229/10229 [==============================] - 12s 1ms/step - loss: 0.6852 - accuracy: 0.5619 - val_loss: 0.6943 - val_accuracy: 0.5417\n",
      "Epoch 19/20\n",
      "10229/10229 [==============================] - 12s 1ms/step - loss: 0.6852 - accuracy: 0.5619 - val_loss: 0.6923 - val_accuracy: 0.5417\n",
      "Epoch 20/20\n",
      "10229/10229 [==============================] - 12s 1ms/step - loss: 0.6849 - accuracy: 0.5619 - val_loss: 0.6921 - val_accuracy: 0.5417\n"
     ]
    }
   ],
   "source": [
    "history = clf.fit(x_train, y_train, epochs=20,\n",
    "                    validation_data=(x_test, y_test))"
   ]
  },
  {
   "cell_type": "code",
   "execution_count": 9,
   "metadata": {},
   "outputs": [],
   "source": [
    "### now we have the kaggle dataset"
   ]
  },
  {
   "cell_type": "code",
   "execution_count": 10,
   "metadata": {},
   "outputs": [],
   "source": [
    "df = pd.read_csv('../../../datasets/kaggle/train.csv')\n",
    "\n",
    "\n",
    "\n"
   ]
  },
  {
   "cell_type": "code",
   "execution_count": 11,
   "metadata": {},
   "outputs": [],
   "source": [
    "df['statement'] = df['title'] + ' ' + df['text']\n",
    "df=df[df['statement']==df['statement']]\n",
    "df=df[df['label']==df['label']]"
   ]
  },
  {
   "cell_type": "code",
   "execution_count": 12,
   "metadata": {},
   "outputs": [],
   "source": [
    "\n",
    "\n",
    "msk = np.random.rand(len(df)) < 0.75\n",
    "\n",
    "train = df[msk]\n",
    "\n",
    "test = df[~msk]"
   ]
  },
  {
   "cell_type": "code",
   "execution_count": 13,
   "metadata": {},
   "outputs": [],
   "source": [
    "train.to_csv('../../../datasets/kaggle/d2vtrain.csv')\n",
    "test.to_csv('../../../datasets/kaggle/d2vtest.csv')"
   ]
  },
  {
   "cell_type": "code",
   "execution_count": 14,
   "metadata": {},
   "outputs": [],
   "source": [
    "x_train,y_train = getEmbeddings('../../../datasets/kaggle/d2vtrain.csv')\n",
    "x_test,y_test = getEmbeddings('../../../datasets/kaggle/d2vtest.csv')"
   ]
  },
  {
   "cell_type": "code",
   "execution_count": 15,
   "metadata": {},
   "outputs": [
    {
     "name": "stderr",
     "output_type": "stream",
     "text": [
      "/Users/lovedeepsingh/anaconda3/lib/python3.7/site-packages/ipykernel_launcher.py:4: UserWarning: Update your `Dense` call to the Keras 2 API: `Dense(activation=\"relu\", input_dim=300, units=500, kernel_initializer=\"uniform\")`\n",
      "  after removing the cwd from sys.path.\n",
      "/Users/lovedeepsingh/anaconda3/lib/python3.7/site-packages/ipykernel_launcher.py:5: UserWarning: Update your `Dense` call to the Keras 2 API: `Dense(activation=\"relu\", units=100, kernel_initializer=\"uniform\")`\n",
      "  \"\"\"\n",
      "/Users/lovedeepsingh/anaconda3/lib/python3.7/site-packages/ipykernel_launcher.py:6: UserWarning: Update your `Dense` call to the Keras 2 API: `Dense(activation=\"relu\", units=50, kernel_initializer=\"uniform\")`\n",
      "  \n",
      "/Users/lovedeepsingh/anaconda3/lib/python3.7/site-packages/ipykernel_launcher.py:7: UserWarning: Update your `Dense` call to the Keras 2 API: `Dense(activation=\"relu\", units=20, kernel_initializer=\"uniform\")`\n",
      "  import sys\n",
      "/Users/lovedeepsingh/anaconda3/lib/python3.7/site-packages/ipykernel_launcher.py:8: UserWarning: Update your `Dense` call to the Keras 2 API: `Dense(activation=\"relu\", units=10, kernel_initializer=\"uniform\")`\n",
      "  \n",
      "/Users/lovedeepsingh/anaconda3/lib/python3.7/site-packages/ipykernel_launcher.py:9: UserWarning: Update your `Dense` call to the Keras 2 API: `Dense(activation=\"relu\", units=5, kernel_initializer=\"uniform\")`\n",
      "  if __name__ == '__main__':\n",
      "/Users/lovedeepsingh/anaconda3/lib/python3.7/site-packages/ipykernel_launcher.py:10: UserWarning: Update your `Dense` call to the Keras 2 API: `Dense(activation=\"sigmoid\", units=1, kernel_initializer=\"uniform\")`\n",
      "  # Remove the CWD from sys.path while we load stuff.\n"
     ]
    },
    {
     "name": "stdout",
     "output_type": "stream",
     "text": [
      "Train on 15108 samples, validate on 5095 samples\n",
      "Epoch 1/20\n",
      "15108/15108 [==============================] - 23s 2ms/step - loss: 0.3616 - accuracy: 0.8502 - val_loss: 0.3351 - val_accuracy: 0.8526\n",
      "Epoch 2/20\n",
      "15108/15108 [==============================] - 17s 1ms/step - loss: 0.2287 - accuracy: 0.9092 - val_loss: 0.3469 - val_accuracy: 0.8506\n",
      "Epoch 3/20\n",
      "15108/15108 [==============================] - 16s 1ms/step - loss: 0.2004 - accuracy: 0.9184 - val_loss: 0.3817 - val_accuracy: 0.8237\n",
      "Epoch 4/20\n",
      "15108/15108 [==============================] - 17s 1ms/step - loss: 0.1780 - accuracy: 0.9282 - val_loss: 0.4199 - val_accuracy: 0.8343\n",
      "Epoch 5/20\n",
      "15108/15108 [==============================] - 20s 1ms/step - loss: 0.1637 - accuracy: 0.9336 - val_loss: 0.5044 - val_accuracy: 0.8079\n",
      "Epoch 6/20\n",
      "15108/15108 [==============================] - 20s 1ms/step - loss: 0.1484 - accuracy: 0.9387 - val_loss: 0.6314 - val_accuracy: 0.8012\n",
      "Epoch 7/20\n",
      "15108/15108 [==============================] - 21s 1ms/step - loss: 0.1301 - accuracy: 0.9479 - val_loss: 0.6881 - val_accuracy: 0.7882\n",
      "Epoch 8/20\n",
      "15108/15108 [==============================] - 22s 1ms/step - loss: 0.1201 - accuracy: 0.9517 - val_loss: 0.8482 - val_accuracy: 0.7629\n",
      "Epoch 9/20\n",
      "15108/15108 [==============================] - 29s 2ms/step - loss: 0.1030 - accuracy: 0.9586 - val_loss: 0.8888 - val_accuracy: 0.7908\n",
      "Epoch 10/20\n",
      "15108/15108 [==============================] - 43s 3ms/step - loss: 0.0921 - accuracy: 0.9635 - val_loss: 1.0921 - val_accuracy: 0.7833\n",
      "Epoch 11/20\n",
      "15108/15108 [==============================] - 20s 1ms/step - loss: 0.0841 - accuracy: 0.9681 - val_loss: 1.3905 - val_accuracy: 0.7872\n",
      "Epoch 12/20\n",
      "15108/15108 [==============================] - 19s 1ms/step - loss: 0.0727 - accuracy: 0.9726 - val_loss: 1.2061 - val_accuracy: 0.8082\n",
      "Epoch 13/20\n",
      "15108/15108 [==============================] - 20s 1ms/step - loss: 0.0639 - accuracy: 0.9752 - val_loss: 1.8642 - val_accuracy: 0.7706\n",
      "Epoch 14/20\n",
      "15108/15108 [==============================] - 23s 2ms/step - loss: 0.0592 - accuracy: 0.9761 - val_loss: 2.7864 - val_accuracy: 0.7896\n",
      "Epoch 15/20\n",
      "15108/15108 [==============================] - 22s 1ms/step - loss: 0.0541 - accuracy: 0.9790 - val_loss: 2.3728 - val_accuracy: 0.8041\n",
      "Epoch 16/20\n",
      "15108/15108 [==============================] - 20s 1ms/step - loss: 0.0416 - accuracy: 0.9841 - val_loss: 3.5139 - val_accuracy: 0.7921\n",
      "Epoch 17/20\n",
      "15108/15108 [==============================] - 21s 1ms/step - loss: 0.0436 - accuracy: 0.9851 - val_loss: 2.5932 - val_accuracy: 0.7825\n",
      "Epoch 18/20\n",
      "15108/15108 [==============================] - 25s 2ms/step - loss: 0.0425 - accuracy: 0.9849 - val_loss: 3.1935 - val_accuracy: 0.7751\n",
      "Epoch 19/20\n",
      "15108/15108 [==============================] - 31s 2ms/step - loss: 0.0354 - accuracy: 0.9880 - val_loss: 2.6068 - val_accuracy: 0.7711\n",
      "Epoch 20/20\n",
      "15108/15108 [==============================] - 42s 3ms/step - loss: 0.0333 - accuracy: 0.9892 - val_loss: 2.3401 - val_accuracy: 0.7955\n"
     ]
    }
   ],
   "source": [
    "history = clf.fit(x_train, y_train, epochs=20,\n",
    "                    validation_data=(x_test, y_test))"
   ]
  },
  {
   "cell_type": "code",
   "execution_count": null,
   "metadata": {},
   "outputs": [],
   "source": []
  }
 ],
 "metadata": {
  "kernelspec": {
   "display_name": "Python 3",
   "language": "python",
   "name": "python3"
  },
  "language_info": {
   "codemirror_mode": {
    "name": "ipython",
    "version": 3
   },
   "file_extension": ".py",
   "mimetype": "text/x-python",
   "name": "python",
   "nbconvert_exporter": "python",
   "pygments_lexer": "ipython3",
   "version": "3.7.3"
  }
 },
 "nbformat": 4,
 "nbformat_minor": 4
}

{
 "cells": [
  {
   "cell_type": "code",
   "execution_count": 1,
   "metadata": {},
   "outputs": [],
   "source": [
    "### we start with the liar dataset\n",
    "\n",
    "import numpy as np\n",
    "import pandas as pd"
   ]
  },
  {
   "cell_type": "code",
   "execution_count": 2,
   "metadata": {},
   "outputs": [],
   "source": [
    "#get the dataset\n",
    "df_train = pd.read_csv('../../../datasets/liar_tweaked/trainvectordata.csv')\n",
    "df_test = pd.read_csv('../../../datasets/liar_tweaked/testvectordata.csv')\n",
    "df_valid = pd.read_csv('../../../datasets/liar_tweaked/validvectordata.csv')"
   ]
  },
  {
   "cell_type": "code",
   "execution_count": 3,
   "metadata": {},
   "outputs": [],
   "source": [
    "X_train=df_train['statement']\n",
    "X_test=df_test['statement']\n",
    "Y_train=df_train['label']\n",
    "Y_test=df_test['label']\n",
    "X_valid=df_valid['statement']\n",
    "Y_valid=df_valid['label']"
   ]
  },
  {
   "cell_type": "code",
   "execution_count": 4,
   "metadata": {},
   "outputs": [
    {
     "data": {
      "text/plain": [
       "0        Says the Annies List political group supports ...\n",
       "1        When did the decline of coal start? It started...\n",
       "2        Hillary Clinton agrees with John McCain \"by vo...\n",
       "3        Health care reform legislation is likely to ma...\n",
       "4        The economic turnaround started at the end of ...\n",
       "                               ...                        \n",
       "10224    There are a larger number of shark attacks in ...\n",
       "10225    Democrats have now become the party of the [At...\n",
       "10226    Says an alternative to Social Security that op...\n",
       "10227    On lifting the U.S. Cuban embargo and allowing...\n",
       "10228    The Department of Veterans Affairs has a manua...\n",
       "Name: statement, Length: 10229, dtype: object"
      ]
     },
     "execution_count": 4,
     "metadata": {},
     "output_type": "execute_result"
    }
   ],
   "source": [
    "X_train"
   ]
  },
  {
   "cell_type": "code",
   "execution_count": 5,
   "metadata": {},
   "outputs": [],
   "source": [
    "X_test=X_test.append(X_valid, ignore_index=True)"
   ]
  },
  {
   "cell_type": "code",
   "execution_count": 6,
   "metadata": {},
   "outputs": [],
   "source": [
    "Y_test=Y_test.append(Y_valid, ignore_index=True)"
   ]
  },
  {
   "cell_type": "code",
   "execution_count": 7,
   "metadata": {},
   "outputs": [
    {
     "data": {
      "text/plain": [
       "0       Building a wall on the U.S.-Mexico border will...\n",
       "1       Wisconsin is on pace to double the number of l...\n",
       "2       Says John McCain has done nothing to help the ...\n",
       "3       Suzanne Bonamici supports a plan that will cut...\n",
       "4       When asked by a reporter whether hes at the ce...\n",
       "                              ...                        \n",
       "2546    For the first time in more than a decade, impo...\n",
       "2547    Says Donald Trump has bankrupted his companies...\n",
       "2548    John McCain and George Bush have \"absolutely n...\n",
       "2549    A new poll shows 62 percent support the presid...\n",
       "2550    No one claims the report vindicating New Jerse...\n",
       "Name: statement, Length: 2551, dtype: object"
      ]
     },
     "execution_count": 7,
     "metadata": {},
     "output_type": "execute_result"
    }
   ],
   "source": [
    "X_test"
   ]
  },
  {
   "cell_type": "code",
   "execution_count": 8,
   "metadata": {},
   "outputs": [
    {
     "name": "stderr",
     "output_type": "stream",
     "text": [
      "Using TensorFlow backend.\n"
     ]
    }
   ],
   "source": [
    "from keras.preprocessing.text import Tokenizer\n",
    "from keras.preprocessing.sequence import pad_sequences\n",
    "from keras.utils import to_categorical\n"
   ]
  },
  {
   "cell_type": "code",
   "execution_count": 9,
   "metadata": {},
   "outputs": [
    {
     "data": {
      "text/plain": [
       "0        Says the Annies List political group supports ...\n",
       "1        When did the decline of coal start? It started...\n",
       "2        Hillary Clinton agrees with John McCain \"by vo...\n",
       "3        Health care reform legislation is likely to ma...\n",
       "4        The economic turnaround started at the end of ...\n",
       "                               ...                        \n",
       "10224    There are a larger number of shark attacks in ...\n",
       "10225    Democrats have now become the party of the [At...\n",
       "10226    Says an alternative to Social Security that op...\n",
       "10227    On lifting the U.S. Cuban embargo and allowing...\n",
       "10228    The Department of Veterans Affairs has a manua...\n",
       "Name: statement, Length: 10229, dtype: object"
      ]
     },
     "execution_count": 9,
     "metadata": {},
     "output_type": "execute_result"
    }
   ],
   "source": [
    "X_train"
   ]
  },
  {
   "cell_type": "code",
   "execution_count": 10,
   "metadata": {},
   "outputs": [
    {
     "data": {
      "text/plain": [
       "0        0\n",
       "1        1\n",
       "2        1\n",
       "3        0\n",
       "4        1\n",
       "        ..\n",
       "10224    1\n",
       "10225    1\n",
       "10226    1\n",
       "10227    0\n",
       "10228    0\n",
       "Name: label, Length: 10229, dtype: int64"
      ]
     },
     "execution_count": 10,
     "metadata": {},
     "output_type": "execute_result"
    }
   ],
   "source": [
    "Y_train"
   ]
  },
  {
   "cell_type": "code",
   "execution_count": 11,
   "metadata": {},
   "outputs": [],
   "source": [
    "X_test = X_test.str.replace('[^a-zA-Z]',' ').str.lower()\n",
    "X_train = X_train.str.replace('[^a-zA-Z]',' ').str.lower()\n"
   ]
  },
  {
   "cell_type": "code",
   "execution_count": 12,
   "metadata": {},
   "outputs": [
    {
     "data": {
      "text/plain": [
       "0       building a wall on the u s  mexico border will...\n",
       "1       wisconsin is on pace to double the number of l...\n",
       "2       says john mccain has done nothing to help the ...\n",
       "3       suzanne bonamici supports a plan that will cut...\n",
       "4       when asked by a reporter whether hes at the ce...\n",
       "                              ...                        \n",
       "2546    for the first time in more than a decade  impo...\n",
       "2547    says donald trump has bankrupted his companies...\n",
       "2548    john mccain and george bush have  absolutely n...\n",
       "2549    a new poll shows    percent support the presid...\n",
       "2550    no one claims the report vindicating new jerse...\n",
       "Name: statement, Length: 2551, dtype: object"
      ]
     },
     "execution_count": 12,
     "metadata": {},
     "output_type": "execute_result"
    }
   ],
   "source": [
    "X_test"
   ]
  },
  {
   "cell_type": "code",
   "execution_count": 13,
   "metadata": {},
   "outputs": [
    {
     "data": {
      "text/plain": [
       "0        says the annies list political group supports ...\n",
       "1        when did the decline of coal start  it started...\n",
       "2        hillary clinton agrees with john mccain  by vo...\n",
       "3        health care reform legislation is likely to ma...\n",
       "4        the economic turnaround started at the end of ...\n",
       "                               ...                        \n",
       "10224    there are a larger number of shark attacks in ...\n",
       "10225    democrats have now become the party of the  at...\n",
       "10226    says an alternative to social security that op...\n",
       "10227    on lifting the u s  cuban embargo and allowing...\n",
       "10228    the department of veterans affairs has a manua...\n",
       "Name: statement, Length: 10229, dtype: object"
      ]
     },
     "execution_count": 13,
     "metadata": {},
     "output_type": "execute_result"
    }
   ],
   "source": [
    "X_train"
   ]
  },
  {
   "cell_type": "code",
   "execution_count": 14,
   "metadata": {},
   "outputs": [],
   "source": [
    "import nltk\n",
    "import re\n",
    "from nltk.corpus import stopwords"
   ]
  },
  {
   "cell_type": "code",
   "execution_count": 15,
   "metadata": {
    "scrolled": true
   },
   "outputs": [
    {
     "data": {
      "text/plain": [
       "0    building  wall   u   mexico border  take liter...\n",
       "1     wisconsin   pace  double  number  layoffs  year \n",
       "2          says john mccain  done nothing  help  vets \n",
       "3    suzanne bonamici supports  plan   cut choice  ...\n",
       "4     asked   reporter whether hes   center   crimi...\n",
       "Name: statement, dtype: object"
      ]
     },
     "execution_count": 15,
     "metadata": {},
     "output_type": "execute_result"
    }
   ],
   "source": [
    "# Remove stop words with regex. '\\\\b' matches any break (space or linebreak or whatever) and '|'\n",
    "# is an or operator. So, for example '\\\\ba\\\\b|\\\\bis\\\\b|\\\\band\\\\b' will match 'a', 'is' or 'and'.\n",
    "stop_re = '\\\\b'+'\\\\b|\\\\b'.join(nltk.corpus.stopwords.words('english'))+'\\\\b'\n",
    "X_test = X_test.str.replace(stop_re, '')\n",
    "X_train = X_train.str.replace(stop_re, '')\n",
    "X_test.head()"
   ]
  },
  {
   "cell_type": "code",
   "execution_count": 16,
   "metadata": {},
   "outputs": [
    {
     "data": {
      "text/plain": [
       "0        says  annies list political group supports thi...\n",
       "1           decline  coal start   started  natural gas ...\n",
       "2        hillary clinton agrees  john mccain   voting  ...\n",
       "3        health care reform legislation  likely  mandat...\n",
       "4                economic turnaround started   end   term \n",
       "                               ...                        \n",
       "10224       larger number  shark attacks  florida    ca...\n",
       "10225    democrats   become  party    atlanta  metro ar...\n",
       "10226    says  alternative  social security  operates  ...\n",
       "10227     lifting  u   cuban embargo  allowing travel  ...\n",
       "10228     department  veterans affairs   manual   telli...\n",
       "Name: statement, Length: 10229, dtype: object"
      ]
     },
     "execution_count": 16,
     "metadata": {},
     "output_type": "execute_result"
    }
   ],
   "source": [
    "X_train"
   ]
  },
  {
   "cell_type": "code",
   "execution_count": 17,
   "metadata": {},
   "outputs": [],
   "source": [
    "from nltk.stem.porter import PorterStemmer\n",
    "ps = PorterStemmer()\n",
    "for i in range(0, len(X_test)):\n",
    "    s=X_test[i]\n",
    "    st=\"\"\n",
    "    st+=\" \".join([ps.stem(i) for i in s.split()])\n",
    "    X_test[i]=st\n",
    "for i in range(0, len(X_train)):\n",
    "    s=X_train[i]\n",
    "    st=\"\"\n",
    "    st+=\" \".join([ps.stem(i) for i in s.split()])\n",
    "    X_train[i]=st"
   ]
  },
  {
   "cell_type": "code",
   "execution_count": 18,
   "metadata": {},
   "outputs": [
    {
     "data": {
      "text/plain": [
       "0              build wall u mexico border take liter year\n",
       "1                 wisconsin pace doubl number layoff year\n",
       "2                      say john mccain done noth help vet\n",
       "3       suzann bonamici support plan cut choic medicar...\n",
       "4       ask report whether he center crimin scheme vio...\n",
       "                              ...                        \n",
       "2546    first time decad import account less half oil ...\n",
       "2547    say donald trump bankrupt compani twice four time\n",
       "2548    john mccain georg bush absolut plan univers he...\n",
       "2549    new poll show percent support presid plan refo...\n",
       "2550    one claim report vindic new jersey gov chri ch...\n",
       "Name: statement, Length: 2551, dtype: object"
      ]
     },
     "execution_count": 18,
     "metadata": {},
     "output_type": "execute_result"
    }
   ],
   "source": [
    "X_test"
   ]
  },
  {
   "cell_type": "code",
   "execution_count": 19,
   "metadata": {},
   "outputs": [
    {
     "data": {
      "text/plain": [
       "0        say anni list polit group support third trimes...\n",
       "1        declin coal start start natur ga took start be...\n",
       "2        hillari clinton agre john mccain vote give geo...\n",
       "3        health care reform legisl like mandat free sex...\n",
       "4                         econom turnaround start end term\n",
       "                               ...                        \n",
       "10224    larger number shark attack florida case voter ...\n",
       "10225        democrat becom parti atlanta metro area black\n",
       "10226    say altern social secur oper galveston counti ...\n",
       "10227               lift u cuban embargo allow travel cuba\n",
       "10228    depart veteran affair manual tell veteran stuf...\n",
       "Name: statement, Length: 10229, dtype: object"
      ]
     },
     "execution_count": 19,
     "metadata": {},
     "output_type": "execute_result"
    }
   ],
   "source": [
    "X_train"
   ]
  },
  {
   "cell_type": "code",
   "execution_count": 20,
   "metadata": {},
   "outputs": [],
   "source": [
    "# Tokenize words\n",
    "X_test = X_test.str.split()\n",
    "X_train = X_train.str.split()"
   ]
  },
  {
   "cell_type": "code",
   "execution_count": 21,
   "metadata": {
    "scrolled": false
   },
   "outputs": [
    {
     "data": {
      "text/plain": [
       "0       [build, wall, u, mexico, border, take, liter, ...\n",
       "1          [wisconsin, pace, doubl, number, layoff, year]\n",
       "2              [say, john, mccain, done, noth, help, vet]\n",
       "3       [suzann, bonamici, support, plan, cut, choic, ...\n",
       "4       [ask, report, whether, he, center, crimin, sch...\n",
       "                              ...                        \n",
       "2546    [first, time, decad, import, account, less, ha...\n",
       "2547    [say, donald, trump, bankrupt, compani, twice,...\n",
       "2548    [john, mccain, georg, bush, absolut, plan, uni...\n",
       "2549    [new, poll, show, percent, support, presid, pl...\n",
       "2550    [one, claim, report, vindic, new, jersey, gov,...\n",
       "Name: statement, Length: 2551, dtype: object"
      ]
     },
     "execution_count": 21,
     "metadata": {},
     "output_type": "execute_result"
    }
   ],
   "source": [
    "X_test"
   ]
  },
  {
   "cell_type": "code",
   "execution_count": 22,
   "metadata": {},
   "outputs": [
    {
     "data": {
      "text/plain": [
       "0        [say, anni, list, polit, group, support, third...\n",
       "1        [declin, coal, start, start, natur, ga, took, ...\n",
       "2        [hillari, clinton, agre, john, mccain, vote, g...\n",
       "3        [health, care, reform, legisl, like, mandat, f...\n",
       "4                   [econom, turnaround, start, end, term]\n",
       "                               ...                        \n",
       "10224    [larger, number, shark, attack, florida, case,...\n",
       "10225    [democrat, becom, parti, atlanta, metro, area,...\n",
       "10226    [say, altern, social, secur, oper, galveston, ...\n",
       "10227       [lift, u, cuban, embargo, allow, travel, cuba]\n",
       "10228    [depart, veteran, affair, manual, tell, vetera...\n",
       "Name: statement, Length: 10229, dtype: object"
      ]
     },
     "execution_count": 22,
     "metadata": {},
     "output_type": "execute_result"
    }
   ],
   "source": [
    "X_train"
   ]
  },
  {
   "cell_type": "code",
   "execution_count": 23,
   "metadata": {},
   "outputs": [],
   "source": [
    "import gensim\n",
    "from gensim.models import Word2Vec"
   ]
  },
  {
   "cell_type": "code",
   "execution_count": 24,
   "metadata": {
    "scrolled": true
   },
   "outputs": [],
   "source": [
    "w2vtest = gensim.models.Word2Vec(X_test.tolist(), min_count=1)\n",
    "w2vtrain = gensim.models.Word2Vec(X_train.tolist(), min_count=1)"
   ]
  },
  {
   "cell_type": "code",
   "execution_count": 25,
   "metadata": {},
   "outputs": [
    {
     "name": "stdout",
     "output_type": "stream",
     "text": [
      "Word2Vec(vocab=4261, size=100, alpha=0.025)\n"
     ]
    }
   ],
   "source": [
    "print(w2vtest)"
   ]
  },
  {
   "cell_type": "code",
   "execution_count": 26,
   "metadata": {},
   "outputs": [
    {
     "name": "stdout",
     "output_type": "stream",
     "text": [
      "Word2Vec(vocab=7696, size=100, alpha=0.025)\n"
     ]
    }
   ],
   "source": [
    "print(w2vtrain)"
   ]
  },
  {
   "cell_type": "code",
   "execution_count": 27,
   "metadata": {},
   "outputs": [
    {
     "name": "stderr",
     "output_type": "stream",
     "text": [
      "/Users/lovedeepsingh/anaconda3/lib/python3.7/site-packages/ipykernel_launcher.py:1: DeprecationWarning: Call to deprecated `__getitem__` (Method will be removed in 4.0.0, use self.wv.__getitem__() instead).\n",
      "  \"\"\"Entry point for launching an IPython kernel.\n"
     ]
    },
    {
     "data": {
      "text/plain": [
       "array([-0.04755927, -0.01767621,  0.02962409,  0.05189681, -0.00691394,\n",
       "        0.01050665, -0.11744978, -0.00403136,  0.045543  ,  0.03222772,\n",
       "       -0.04540236, -0.03127164,  0.0869525 , -0.09453246,  0.00572352,\n",
       "        0.00491209,  0.01682266, -0.04448804,  0.02511368, -0.005665  ,\n",
       "       -0.02988115,  0.09950683, -0.02550458, -0.09469201, -0.02522548,\n",
       "       -0.048501  , -0.10134216, -0.01926556,  0.10946972,  0.02446877,\n",
       "       -0.00098238, -0.07994533,  0.02203063, -0.06469542, -0.0182451 ,\n",
       "        0.08849648,  0.01277518, -0.00091443, -0.00529719, -0.05972398,\n",
       "        0.02614198,  0.02539223, -0.01014301, -0.04179498,  0.04009931,\n",
       "       -0.01993762, -0.10011499, -0.03328148, -0.02222918,  0.04315272,\n",
       "        0.01093954,  0.06636155,  0.00827878, -0.00167395, -0.12142117,\n",
       "       -0.05064264,  0.04184408, -0.03228915,  0.0757497 , -0.01606833,\n",
       "        0.01172314, -0.01937219,  0.09502196, -0.12749615, -0.11413926,\n",
       "       -0.11480086, -0.0507659 ,  0.04612362, -0.08116254,  0.03904127,\n",
       "       -0.00306867, -0.0491908 ,  0.05130287, -0.03703433, -0.01670924,\n",
       "       -0.01099169,  0.04343728, -0.11304683, -0.0877964 ,  0.0387436 ,\n",
       "        0.02687943,  0.0180721 , -0.03053674,  0.07717113,  0.09546508,\n",
       "       -0.03537661,  0.00202869, -0.02268933,  0.00383421,  0.04266528,\n",
       "        0.10397957,  0.06507111,  0.0480747 , -0.05083863, -0.04369889,\n",
       "        0.03186904,  0.04134167,  0.00656344,  0.02184725,  0.00118978],\n",
       "      dtype=float32)"
      ]
     },
     "execution_count": 27,
     "metadata": {},
     "output_type": "execute_result"
    }
   ],
   "source": [
    "w2vtrain['pace']"
   ]
  },
  {
   "cell_type": "code",
   "execution_count": 28,
   "metadata": {},
   "outputs": [],
   "source": [
    "def transform_data(data,w2v):\n",
    "    for i in range(0, len(data)):\n",
    "        x=data[i]\n",
    "        b = np.zeros(100) \n",
    "        for w in x:\n",
    "            b+=w2v[w]\n",
    "        b = np.divide(b, 100)\n",
    "        x=b\n",
    "        data[i]=x\n",
    "        #print(b)\n",
    "    return data"
   ]
  },
  {
   "cell_type": "code",
   "execution_count": 29,
   "metadata": {},
   "outputs": [
    {
     "name": "stderr",
     "output_type": "stream",
     "text": [
      "/Users/lovedeepsingh/anaconda3/lib/python3.7/site-packages/ipykernel_launcher.py:6: DeprecationWarning: Call to deprecated `__getitem__` (Method will be removed in 4.0.0, use self.wv.__getitem__() instead).\n",
      "  \n"
     ]
    }
   ],
   "source": [
    "X_test=transform_data(X_test,w2vtest)\n",
    "X_train=transform_data(X_train,w2vtrain)"
   ]
  },
  {
   "cell_type": "code",
   "execution_count": 30,
   "metadata": {},
   "outputs": [
    {
     "data": {
      "text/plain": [
       "0       [-0.0034752286225557326, -0.002230040743015706...\n",
       "1       [-0.0028024753773206613, -0.001634412168059498...\n",
       "2       [-0.0027285708161070943, -0.001669065393507480...\n",
       "3       [-0.004068343453691341, -0.00234079125280914, ...\n",
       "4       [-0.004365094123786548, -0.0026797911725225275...\n",
       "                              ...                        \n",
       "2546    [-0.003750965464860201, -0.002328509953804314,...\n",
       "2547    [-0.004750731289386749, -0.0026156846759840847...\n",
       "2548    [-0.0042591160768643025, -0.002705012777587398...\n",
       "2549    [-0.01289866041392088, -0.00789296709233895, 0...\n",
       "2550    [-0.004150507394224405, -0.0024283364316215737...\n",
       "Name: statement, Length: 2551, dtype: object"
      ]
     },
     "execution_count": 30,
     "metadata": {},
     "output_type": "execute_result"
    }
   ],
   "source": [
    "X_test"
   ]
  },
  {
   "cell_type": "code",
   "execution_count": 31,
   "metadata": {},
   "outputs": [
    {
     "data": {
      "text/plain": [
       "0        [-0.023454265319742262, -0.009690459986450151,...\n",
       "1        [-0.030325847193598748, -0.01335119403898716, ...\n",
       "2        [-0.032422220520675185, -0.011197670912370086,...\n",
       "3        [-0.031085690036416053, -0.014491718742065132,...\n",
       "4        [-0.012773682940751313, -0.005419282261282205,...\n",
       "                               ...                        \n",
       "10224    [-0.021646537268534303, -0.009115044255158864,...\n",
       "10225    [-0.017399911656975745, -0.007130206115543842,...\n",
       "10226    [-0.0428013543272391, -0.019443689681356773, 0...\n",
       "10227    [-0.011107116248458624, -0.004768220242112875,...\n",
       "10228    [-0.029168393816798924, -0.012462531994096936,...\n",
       "Name: statement, Length: 10229, dtype: object"
      ]
     },
     "execution_count": 31,
     "metadata": {},
     "output_type": "execute_result"
    }
   ],
   "source": [
    "X_train"
   ]
  },
  {
   "cell_type": "code",
   "execution_count": 32,
   "metadata": {},
   "outputs": [
    {
     "name": "stderr",
     "output_type": "stream",
     "text": [
      "/Users/lovedeepsingh/anaconda3/lib/python3.7/site-packages/ipykernel_launcher.py:1: DeprecationWarning: Call to deprecated `__getitem__` (Method will be removed in 4.0.0, use self.wv.__getitem__() instead).\n",
      "  \"\"\"Entry point for launching an IPython kernel.\n",
      "/Users/lovedeepsingh/anaconda3/lib/python3.7/site-packages/ipykernel_launcher.py:2: DeprecationWarning: Call to deprecated `__getitem__` (Method will be removed in 4.0.0, use self.wv.__getitem__() instead).\n",
      "  \n"
     ]
    }
   ],
   "source": [
    "X1 = w2vtest[w2vtest.wv.vocab]\n",
    "X2 = w2vtrain[w2vtrain.wv.vocab]"
   ]
  },
  {
   "cell_type": "code",
   "execution_count": 33,
   "metadata": {},
   "outputs": [
    {
     "data": {
      "image/png": "[encoded data removed]",
      "text/plain": [
       "<Figure size 432x288 with 1 Axes>"
      ]
     },
     "metadata": {
      "needs_background": "light"
     },
     "output_type": "display_data"
    }
   ],
   "source": [
    "import matplotlib.pyplot as pyplot\n",
    "from sklearn.decomposition import PCA\n",
    "pca = PCA(n_components=2)\n",
    "result = pca.fit_transform(X1)\n",
    "# create a scatter plot of the projection\n",
    "pyplot.scatter(result[:, 0], result[:, 1])\n",
    "words = list(w2vtest.wv.vocab)\n",
    "for i, word in enumerate(words):\n",
    "\tpyplot.annotate(word, xy=(result[i, 0], result[i, 1]))\n",
    "pyplot.show()"
   ]
  },
  {
   "cell_type": "code",
   "execution_count": 34,
   "metadata": {},
   "outputs": [
    {
     "data": {
      "image/png": "[encoded data removed]",
      "text/plain": [
       "<Figure size 432x288 with 1 Axes>"
      ]
     },
     "metadata": {
      "needs_background": "light"
     },
     "output_type": "display_data"
    }
   ],
   "source": [
    "import matplotlib.pyplot as pyplot\n",
    "from sklearn.decomposition import PCA\n",
    "pca = PCA(n_components=2)\n",
    "result = pca.fit_transform(X2)\n",
    "# create a scatter plot of the projection\n",
    "pyplot.scatter(result[:, 0], result[:, 1])\n",
    "words = list(w2vtrain.wv.vocab)\n",
    "for i, word in enumerate(words):\n",
    "\tpyplot.annotate(word, xy=(result[i, 0], result[i, 1]))\n",
    "pyplot.show()"
   ]
  },
  {
   "cell_type": "code",
   "execution_count": 35,
   "metadata": {},
   "outputs": [
    {
     "data": {
      "text/plain": [
       "0        [-0.023454265319742262, -0.009690459986450151,...\n",
       "1        [-0.030325847193598748, -0.01335119403898716, ...\n",
       "2        [-0.032422220520675185, -0.011197670912370086,...\n",
       "3        [-0.031085690036416053, -0.014491718742065132,...\n",
       "4        [-0.012773682940751313, -0.005419282261282205,...\n",
       "                               ...                        \n",
       "10224    [-0.021646537268534303, -0.009115044255158864,...\n",
       "10225    [-0.017399911656975745, -0.007130206115543842,...\n",
       "10226    [-0.0428013543272391, -0.019443689681356773, 0...\n",
       "10227    [-0.011107116248458624, -0.004768220242112875,...\n",
       "10228    [-0.029168393816798924, -0.012462531994096936,...\n",
       "Name: statement, Length: 10229, dtype: object"
      ]
     },
     "execution_count": 35,
     "metadata": {},
     "output_type": "execute_result"
    }
   ],
   "source": [
    "X_train"
   ]
  },
  {
   "cell_type": "code",
   "execution_count": 36,
   "metadata": {},
   "outputs": [
    {
     "data": {
      "text/plain": [
       "0        [-0.023454265319742262, -0.009690459986450151,...\n",
       "1        [-0.030325847193598748, -0.01335119403898716, ...\n",
       "2        [-0.032422220520675185, -0.011197670912370086,...\n",
       "3        [-0.031085690036416053, -0.014491718742065132,...\n",
       "4        [-0.012773682940751313, -0.005419282261282205,...\n",
       "                               ...                        \n",
       "10224    [-0.021646537268534303, -0.009115044255158864,...\n",
       "10225    [-0.017399911656975745, -0.007130206115543842,...\n",
       "10226    [-0.0428013543272391, -0.019443689681356773, 0...\n",
       "10227    [-0.011107116248458624, -0.004768220242112875,...\n",
       "10228    [-0.029168393816798924, -0.012462531994096936,...\n",
       "Name: statement, Length: 10229, dtype: object"
      ]
     },
     "execution_count": 36,
     "metadata": {},
     "output_type": "execute_result"
    }
   ],
   "source": [
    "X_train"
   ]
  },
  {
   "cell_type": "code",
   "execution_count": 37,
   "metadata": {
    "scrolled": true
   },
   "outputs": [],
   "source": [
    "X_train = np.array(X_train.tolist())\n",
    "X_test = np.array(X_test.tolist())"
   ]
  },
  {
   "cell_type": "code",
   "execution_count": 38,
   "metadata": {},
   "outputs": [],
   "source": [
    "Y_train = np.array(Y_train.tolist())\n",
    "Y_test = np.array(Y_test.tolist())"
   ]
  },
  {
   "cell_type": "code",
   "execution_count": 39,
   "metadata": {},
   "outputs": [
    {
     "data": {
      "text/plain": [
       "(10229, 100)"
      ]
     },
     "execution_count": 39,
     "metadata": {},
     "output_type": "execute_result"
    }
   ],
   "source": [
    "X_train.shape"
   ]
  },
  {
   "cell_type": "code",
   "execution_count": 40,
   "metadata": {},
   "outputs": [
    {
     "name": "stdout",
     "output_type": "stream",
     "text": [
      "Model: \"model\"\n",
      "_________________________________________________________________\n",
      "Layer (type)                 Output Shape              Param #   \n",
      "=================================================================\n",
      "input_1 (InputLayer)         [(None, 1, 100)]          0         \n",
      "_________________________________________________________________\n",
      "conv1d (Conv1D)              (None, 1, 128)            64128     \n",
      "_________________________________________________________________\n",
      "dropout (Dropout)            (None, 1, 128)            0         \n",
      "_________________________________________________________________\n",
      "conv1d_1 (Conv1D)            (None, 1, 64)             41024     \n",
      "_________________________________________________________________\n",
      "dropout_1 (Dropout)          (None, 1, 64)             0         \n",
      "_________________________________________________________________\n",
      "flatten (Flatten)            (None, 64)                0         \n",
      "_________________________________________________________________\n",
      "dense (Dense)                (None, 2)                 130       \n",
      "=================================================================\n",
      "Total params: 105,282\n",
      "Trainable params: 105,282\n",
      "Non-trainable params: 0\n",
      "_________________________________________________________________\n",
      "Train on 10229 samples, validate on 2551 samples\n",
      "Epoch 1/100\n",
      "10229/10229 [==============================] - 11s 1ms/sample - loss: 0.6861 - accuracy: 0.5598 - val_loss: 0.6894 - val_accuracy: 0.5417\n",
      "Epoch 2/100\n",
      "10229/10229 [==============================] - 6s 597us/sample - loss: 0.6847 - accuracy: 0.5619 - val_loss: 0.6892 - val_accuracy: 0.5417\n",
      "Epoch 3/100\n",
      "10229/10229 [==============================] - 5s 474us/sample - loss: 0.6854 - accuracy: 0.5619 - val_loss: 0.6893 - val_accuracy: 0.5417\n",
      "Epoch 4/100\n",
      "10229/10229 [==============================] - 6s 551us/sample - loss: 0.6839 - accuracy: 0.5619 - val_loss: 0.6896 - val_accuracy: 0.5417\n",
      "Epoch 5/100\n",
      "10229/10229 [==============================] - 5s 474us/sample - loss: 0.6838 - accuracy: 0.5619 - val_loss: 0.6892 - val_accuracy: 0.5417\n",
      "Epoch 6/100\n",
      "10229/10229 [==============================] - 5s 487us/sample - loss: 0.6821 - accuracy: 0.5619 - val_loss: 0.6896 - val_accuracy: 0.5417\n",
      "Epoch 7/100\n",
      "10229/10229 [==============================] - 5s 502us/sample - loss: 0.6809 - accuracy: 0.5617 - val_loss: 0.6890 - val_accuracy: 0.5417\n",
      "Epoch 8/100\n",
      "10229/10229 [==============================] - 6s 554us/sample - loss: 0.6806 - accuracy: 0.5639 - val_loss: 0.6891 - val_accuracy: 0.5417\n",
      "Epoch 9/100\n",
      "10229/10229 [==============================] - 5s 489us/sample - loss: 0.6796 - accuracy: 0.5654 - val_loss: 0.6885 - val_accuracy: 0.5417\n",
      "Epoch 10/100\n",
      "10229/10229 [==============================] - 5s 489us/sample - loss: 0.6785 - accuracy: 0.5645 - val_loss: 0.6881 - val_accuracy: 0.5417\n",
      "Epoch 11/100\n",
      "10229/10229 [==============================] - 5s 486us/sample - loss: 0.6776 - accuracy: 0.5674 - val_loss: 0.6917 - val_accuracy: 0.5359\n",
      "Epoch 12/100\n",
      "10229/10229 [==============================] - 5s 513us/sample - loss: 0.6761 - accuracy: 0.5755 - val_loss: 0.6879 - val_accuracy: 0.5417\n",
      "Epoch 13/100\n",
      "10229/10229 [==============================] - 5s 455us/sample - loss: 0.6765 - accuracy: 0.5721 - val_loss: 0.6875 - val_accuracy: 0.5417\n",
      "Epoch 14/100\n",
      "10229/10229 [==============================] - 5s 478us/sample - loss: 0.6757 - accuracy: 0.5741 - val_loss: 0.6892 - val_accuracy: 0.5519\n",
      "Epoch 15/100\n",
      "10229/10229 [==============================] - 5s 458us/sample - loss: 0.6754 - accuracy: 0.5723 - val_loss: 0.6886 - val_accuracy: 0.5539\n",
      "Epoch 16/100\n",
      "10229/10229 [==============================] - 5s 456us/sample - loss: 0.6746 - accuracy: 0.5764 - val_loss: 0.6877 - val_accuracy: 0.5417\n",
      "Epoch 17/100\n",
      "10229/10229 [==============================] - 5s 447us/sample - loss: 0.6766 - accuracy: 0.5650 - val_loss: 0.6879 - val_accuracy: 0.5547\n",
      "Epoch 18/100\n",
      "10229/10229 [==============================] - 5s 483us/sample - loss: 0.6736 - accuracy: 0.5710 - val_loss: 0.6875 - val_accuracy: 0.5417\n",
      "Epoch 19/100\n",
      "10229/10229 [==============================] - 5s 446us/sample - loss: 0.6752 - accuracy: 0.5715 - val_loss: 0.6921 - val_accuracy: 0.5147\n",
      "Epoch 20/100\n",
      "10229/10229 [==============================] - 5s 484us/sample - loss: 0.6756 - accuracy: 0.5681 - val_loss: 0.6870 - val_accuracy: 0.5472\n",
      "Epoch 21/100\n",
      "10229/10229 [==============================] - 5s 450us/sample - loss: 0.6741 - accuracy: 0.5736 - val_loss: 0.6867 - val_accuracy: 0.5453\n",
      "Epoch 22/100\n",
      "10229/10229 [==============================] - 5s 456us/sample - loss: 0.6745 - accuracy: 0.5708 - val_loss: 0.6875 - val_accuracy: 0.5535\n",
      "Epoch 23/100\n",
      "10229/10229 [==============================] - 5s 448us/sample - loss: 0.6738 - accuracy: 0.5680 - val_loss: 0.6872 - val_accuracy: 0.5559\n",
      "Epoch 24/100\n",
      "10229/10229 [==============================] - 5s 458us/sample - loss: 0.6745 - accuracy: 0.5683 - val_loss: 0.6875 - val_accuracy: 0.5417\n",
      "Epoch 25/100\n",
      "10229/10229 [==============================] - 5s 458us/sample - loss: 0.6748 - accuracy: 0.5712 - val_loss: 0.6869 - val_accuracy: 0.5417\n",
      "Epoch 26/100\n",
      "10229/10229 [==============================] - 5s 456us/sample - loss: 0.6744 - accuracy: 0.5774 - val_loss: 0.6908 - val_accuracy: 0.5194\n",
      "Epoch 27/100\n",
      "10229/10229 [==============================] - 5s 505us/sample - loss: 0.6755 - accuracy: 0.5761 - val_loss: 0.6866 - val_accuracy: 0.5414\n",
      "Epoch 28/100\n",
      "10229/10229 [==============================] - 5s 459us/sample - loss: 0.6739 - accuracy: 0.5725 - val_loss: 0.6877 - val_accuracy: 0.5492\n",
      "Epoch 29/100\n",
      "10229/10229 [==============================] - 5s 471us/sample - loss: 0.6746 - accuracy: 0.5708 - val_loss: 0.6879 - val_accuracy: 0.5500\n",
      "Epoch 30/100\n",
      "10229/10229 [==============================] - 5s 447us/sample - loss: 0.6733 - accuracy: 0.5743 - val_loss: 0.6894 - val_accuracy: 0.5331\n",
      "Epoch 31/100\n",
      "10229/10229 [==============================] - 5s 498us/sample - loss: 0.6740 - accuracy: 0.5768 - val_loss: 0.6884 - val_accuracy: 0.5433\n",
      "Epoch 32/100\n",
      "10229/10229 [==============================] - 5s 457us/sample - loss: 0.6738 - accuracy: 0.5739 - val_loss: 0.6865 - val_accuracy: 0.5555\n",
      "Epoch 33/100\n",
      "10229/10229 [==============================] - 5s 450us/sample - loss: 0.6741 - accuracy: 0.5695 - val_loss: 0.6881 - val_accuracy: 0.5417\n",
      "Epoch 34/100\n",
      "10229/10229 [==============================] - 5s 444us/sample - loss: 0.6736 - accuracy: 0.5699 - val_loss: 0.6866 - val_accuracy: 0.5500\n",
      "Epoch 35/100\n",
      "10229/10229 [==============================] - 6s 603us/sample - loss: 0.6724 - accuracy: 0.5742 - val_loss: 0.6886 - val_accuracy: 0.5484\n",
      "Epoch 36/100\n",
      "10229/10229 [==============================] - 10s 1ms/sample - loss: 0.6748 - accuracy: 0.5707 - val_loss: 0.6867 - val_accuracy: 0.5543\n",
      "Epoch 37/100\n",
      "10229/10229 [==============================] - 9s 898us/sample - loss: 0.6731 - accuracy: 0.5733 - val_loss: 0.6867 - val_accuracy: 0.5539\n",
      "Epoch 38/100\n",
      "10229/10229 [==============================] - 7s 669us/sample - loss: 0.6740 - accuracy: 0.5741 - val_loss: 0.6867 - val_accuracy: 0.5480\n",
      "Epoch 39/100\n",
      "10229/10229 [==============================] - 6s 593us/sample - loss: 0.6744 - accuracy: 0.5721 - val_loss: 0.6867 - val_accuracy: 0.5414\n",
      "Epoch 40/100\n",
      "10229/10229 [==============================] - 6s 565us/sample - loss: 0.6741 - accuracy: 0.5728 - val_loss: 0.6879 - val_accuracy: 0.5374\n",
      "Epoch 41/100\n",
      "10229/10229 [==============================] - 7s 699us/sample - loss: 0.6737 - accuracy: 0.5795 - val_loss: 0.6866 - val_accuracy: 0.5492\n",
      "Epoch 42/100\n",
      "10229/10229 [==============================] - 8s 799us/sample - loss: 0.6722 - accuracy: 0.5822 - val_loss: 0.6893 - val_accuracy: 0.5339\n",
      "Epoch 43/100\n",
      "10229/10229 [==============================] - 10s 969us/sample - loss: 0.6733 - accuracy: 0.5773 - val_loss: 0.6885 - val_accuracy: 0.5351\n",
      "Epoch 44/100\n",
      "10229/10229 [==============================] - 5s 475us/sample - loss: 0.6738 - accuracy: 0.5715 - val_loss: 0.6864 - val_accuracy: 0.5547\n",
      "Epoch 45/100\n",
      "10229/10229 [==============================] - 4s 414us/sample - loss: 0.6732 - accuracy: 0.5718 - val_loss: 0.6866 - val_accuracy: 0.5527\n",
      "Epoch 46/100\n"
     ]
    },
    {
     "name": "stdout",
     "output_type": "stream",
     "text": [
      "10229/10229 [==============================] - 4s 399us/sample - loss: 0.6721 - accuracy: 0.5773 - val_loss: 0.6866 - val_accuracy: 0.5492\n",
      "Epoch 47/100\n",
      "10229/10229 [==============================] - 4s 405us/sample - loss: 0.6725 - accuracy: 0.5768 - val_loss: 0.6871 - val_accuracy: 0.5480\n",
      "Epoch 48/100\n",
      "10229/10229 [==============================] - 8s 771us/sample - loss: 0.6728 - accuracy: 0.5774 - val_loss: 0.6865 - val_accuracy: 0.5523\n",
      "Epoch 49/100\n",
      "10229/10229 [==============================] - 8s 742us/sample - loss: 0.6725 - accuracy: 0.5735 - val_loss: 0.6865 - val_accuracy: 0.5563\n",
      "Epoch 50/100\n",
      "10229/10229 [==============================] - 6s 588us/sample - loss: 0.6731 - accuracy: 0.5791 - val_loss: 0.6871 - val_accuracy: 0.5433\n",
      "Epoch 51/100\n",
      "10229/10229 [==============================] - 7s 683us/sample - loss: 0.6736 - accuracy: 0.5740 - val_loss: 0.6869 - val_accuracy: 0.5449\n",
      "Epoch 52/100\n",
      "10229/10229 [==============================] - 5s 535us/sample - loss: 0.6724 - accuracy: 0.5727 - val_loss: 0.6863 - val_accuracy: 0.5496\n",
      "Epoch 53/100\n",
      "10229/10229 [==============================] - 5s 513us/sample - loss: 0.6742 - accuracy: 0.5667 - val_loss: 0.6870 - val_accuracy: 0.5445\n",
      "Epoch 54/100\n",
      "10229/10229 [==============================] - 5s 481us/sample - loss: 0.6745 - accuracy: 0.5718 - val_loss: 0.6873 - val_accuracy: 0.5453\n",
      "Epoch 55/100\n",
      "10229/10229 [==============================] - 5s 498us/sample - loss: 0.6725 - accuracy: 0.5742 - val_loss: 0.6869 - val_accuracy: 0.5484\n",
      "Epoch 56/100\n",
      "10229/10229 [==============================] - 7s 659us/sample - loss: 0.6739 - accuracy: 0.5718 - val_loss: 0.6867 - val_accuracy: 0.5508\n",
      "Epoch 57/100\n",
      "10229/10229 [==============================] - 5s 489us/sample - loss: 0.6744 - accuracy: 0.5740 - val_loss: 0.6865 - val_accuracy: 0.5543\n",
      "Epoch 58/100\n",
      "10229/10229 [==============================] - 5s 482us/sample - loss: 0.6724 - accuracy: 0.5751 - val_loss: 0.6866 - val_accuracy: 0.5441\n",
      "Epoch 59/100\n",
      "10229/10229 [==============================] - 5s 481us/sample - loss: 0.6733 - accuracy: 0.5728 - val_loss: 0.6868 - val_accuracy: 0.5496\n",
      "Epoch 60/100\n",
      "10229/10229 [==============================] - 9s 850us/sample - loss: 0.6722 - accuracy: 0.5714 - val_loss: 0.6868 - val_accuracy: 0.5468\n",
      "Epoch 61/100\n",
      "10229/10229 [==============================] - 13s 1ms/sample - loss: 0.6731 - accuracy: 0.5747 - val_loss: 0.6872 - val_accuracy: 0.5441\n",
      "Epoch 62/100\n",
      "10229/10229 [==============================] - 8s 737us/sample - loss: 0.6727 - accuracy: 0.5734 - val_loss: 0.6875 - val_accuracy: 0.5429\n",
      "Epoch 63/100\n",
      "10229/10229 [==============================] - 6s 627us/sample - loss: 0.6736 - accuracy: 0.5776 - val_loss: 0.6892 - val_accuracy: 0.5327\n",
      "Epoch 64/100\n",
      "10229/10229 [==============================] - 16s 2ms/sample - loss: 0.6733 - accuracy: 0.5683 - val_loss: 0.6867 - val_accuracy: 0.5492\n",
      "Epoch 65/100\n",
      "10229/10229 [==============================] - 7s 718us/sample - loss: 0.6720 - accuracy: 0.5784 - val_loss: 0.6880 - val_accuracy: 0.5394\n",
      "Epoch 66/100\n",
      "10229/10229 [==============================] - 6s 623us/sample - loss: 0.6726 - accuracy: 0.5699 - val_loss: 0.6867 - val_accuracy: 0.5449\n",
      "Epoch 67/100\n",
      "10229/10229 [==============================] - 9s 897us/sample - loss: 0.6728 - accuracy: 0.5738 - val_loss: 0.6885 - val_accuracy: 0.5449\n",
      "Epoch 68/100\n",
      "10229/10229 [==============================] - 6s 557us/sample - loss: 0.6712 - accuracy: 0.5811 - val_loss: 0.6866 - val_accuracy: 0.5488\n",
      "Epoch 69/100\n",
      "10229/10229 [==============================] - 5s 510us/sample - loss: 0.6727 - accuracy: 0.5753 - val_loss: 0.6870 - val_accuracy: 0.5390\n",
      "Epoch 70/100\n",
      "10229/10229 [==============================] - 7s 687us/sample - loss: 0.6721 - accuracy: 0.5789 - val_loss: 0.6866 - val_accuracy: 0.5472\n",
      "Epoch 71/100\n",
      "10229/10229 [==============================] - 11s 1ms/sample - loss: 0.6720 - accuracy: 0.5767 - val_loss: 0.6867 - val_accuracy: 0.5476\n",
      "Epoch 72/100\n",
      "10229/10229 [==============================] - 7s 675us/sample - loss: 0.6715 - accuracy: 0.5779 - val_loss: 0.6871 - val_accuracy: 0.5527\n",
      "Epoch 73/100\n",
      "10229/10229 [==============================] - 5s 491us/sample - loss: 0.6715 - accuracy: 0.5783 - val_loss: 0.6868 - val_accuracy: 0.5539\n",
      "Epoch 74/100\n",
      "10229/10229 [==============================] - 5s 440us/sample - loss: 0.6724 - accuracy: 0.5751 - val_loss: 0.6886 - val_accuracy: 0.5390\n",
      "Epoch 75/100\n",
      "10229/10229 [==============================] - 5s 456us/sample - loss: 0.6728 - accuracy: 0.5737 - val_loss: 0.6865 - val_accuracy: 0.5500\n",
      "Epoch 76/100\n",
      "10229/10229 [==============================] - 4s 439us/sample - loss: 0.6732 - accuracy: 0.5759 - val_loss: 0.6865 - val_accuracy: 0.5445\n",
      "Epoch 77/100\n",
      "10229/10229 [==============================] - 6s 596us/sample - loss: 0.6734 - accuracy: 0.5706 - val_loss: 0.6866 - val_accuracy: 0.5488\n",
      "Epoch 78/100\n",
      "10229/10229 [==============================] - 6s 623us/sample - loss: 0.6716 - accuracy: 0.5770 - val_loss: 0.6871 - val_accuracy: 0.5390\n",
      "Epoch 79/100\n",
      "10229/10229 [==============================] - 6s 548us/sample - loss: 0.6727 - accuracy: 0.5787 - val_loss: 0.6866 - val_accuracy: 0.5453\n",
      "Epoch 80/100\n",
      "10229/10229 [==============================] - 9s 910us/sample - loss: 0.6715 - accuracy: 0.5786 - val_loss: 0.6878 - val_accuracy: 0.5363\n",
      "Epoch 81/100\n",
      "10229/10229 [==============================] - 8s 828us/sample - loss: 0.6722 - accuracy: 0.5769 - val_loss: 0.6878 - val_accuracy: 0.5449\n",
      "Epoch 82/100\n",
      "10229/10229 [==============================] - 5s 513us/sample - loss: 0.6727 - accuracy: 0.5684 - val_loss: 0.6867 - val_accuracy: 0.5492\n",
      "Epoch 83/100\n",
      "10229/10229 [==============================] - 5s 512us/sample - loss: 0.6705 - accuracy: 0.5779 - val_loss: 0.6874 - val_accuracy: 0.5523\n",
      "Epoch 84/100\n",
      "10229/10229 [==============================] - 7s 714us/sample - loss: 0.6728 - accuracy: 0.5657 - val_loss: 0.6877 - val_accuracy: 0.5480\n",
      "Epoch 85/100\n",
      "10229/10229 [==============================] - 7s 727us/sample - loss: 0.6723 - accuracy: 0.5752 - val_loss: 0.6883 - val_accuracy: 0.5414\n",
      "Epoch 86/100\n",
      "10229/10229 [==============================] - 7s 678us/sample - loss: 0.6712 - accuracy: 0.5759 - val_loss: 0.6872 - val_accuracy: 0.5551\n",
      "Epoch 87/100\n",
      "10229/10229 [==============================] - 8s 780us/sample - loss: 0.6716 - accuracy: 0.5715 - val_loss: 0.6870 - val_accuracy: 0.5402\n",
      "Epoch 88/100\n",
      "10229/10229 [==============================] - 7s 677us/sample - loss: 0.6726 - accuracy: 0.5755 - val_loss: 0.6873 - val_accuracy: 0.5535\n",
      "Epoch 89/100\n",
      "10229/10229 [==============================] - 7s 724us/sample - loss: 0.6723 - accuracy: 0.5774 - val_loss: 0.6864 - val_accuracy: 0.5433\n",
      "Epoch 90/100\n",
      "10229/10229 [==============================] - 7s 705us/sample - loss: 0.6717 - accuracy: 0.5744 - val_loss: 0.6864 - val_accuracy: 0.5531\n",
      "Epoch 91/100\n",
      "10229/10229 [==============================] - 5s 486us/sample - loss: 0.6734 - accuracy: 0.5755 - val_loss: 0.6873 - val_accuracy: 0.5539\n",
      "Epoch 92/100\n",
      "10229/10229 [==============================] - 7s 693us/sample - loss: 0.6720 - accuracy: 0.5755 - val_loss: 0.6866 - val_accuracy: 0.5484\n",
      "Epoch 93/100\n",
      "10229/10229 [==============================] - 5s 531us/sample - loss: 0.6716 - accuracy: 0.5729 - val_loss: 0.6887 - val_accuracy: 0.5496\n",
      "Epoch 94/100\n",
      "10229/10229 [==============================] - 5s 529us/sample - loss: 0.6729 - accuracy: 0.5760 - val_loss: 0.6870 - val_accuracy: 0.5484\n",
      "Epoch 95/100\n",
      "10229/10229 [==============================] - 6s 550us/sample - loss: 0.6721 - accuracy: 0.5755 - val_loss: 0.6865 - val_accuracy: 0.5441\n",
      "Epoch 96/100\n",
      "10229/10229 [==============================] - 5s 518us/sample - loss: 0.6729 - accuracy: 0.5785 - val_loss: 0.6869 - val_accuracy: 0.5539\n",
      "Epoch 97/100\n",
      "10229/10229 [==============================] - 7s 704us/sample - loss: 0.6728 - accuracy: 0.5773 - val_loss: 0.6867 - val_accuracy: 0.5527\n",
      "Epoch 98/100\n",
      "10229/10229 [==============================] - 7s 712us/sample - loss: 0.6708 - accuracy: 0.5817 - val_loss: 0.6866 - val_accuracy: 0.5453\n",
      "Epoch 99/100\n",
      "10229/10229 [==============================] - 9s 909us/sample - loss: 0.6724 - accuracy: 0.5699 - val_loss: 0.6865 - val_accuracy: 0.5429\n",
      "Epoch 100/100\n"
     ]
    },
    {
     "name": "stdout",
     "output_type": "stream",
     "text": [
      "10229/10229 [==============================] - 8s 777us/sample - loss: 0.6708 - accuracy: 0.5752 - val_loss: 0.6865 - val_accuracy: 0.5472\n"
     ]
    }
   ],
   "source": [
    "import numpy as np\n",
    "import tensorflow as tf\n",
    "from tensorflow.keras.layers import *\n",
    "from tensorflow.keras.models import *\n",
    "\n",
    "## define variable\n",
    "n_sample = 10229\n",
    "text_len = 100\n",
    "\n",
    "## create dummy data\n",
    "# x_train = np.random.uniform(0,1, (n_sample,text_len))\n",
    "# y_train = np.random.randint(0,2, n_sample)\n",
    "\n",
    "# print(x_train.shape, y_train.shape)\n",
    "\n",
    "# print(type(x_train), type(y_train.shape))\n",
    "\n",
    "\n",
    "\n",
    "\n",
    "# ## expand train dimnesion: pass from 2d to 3d\n",
    "X_train = np.expand_dims(X_train, axis=1)\n",
    "X_test = np.expand_dims(X_test, axis=1)\n",
    "# print(x_train.shape, y_train.shape)\n",
    "\n",
    "## create model\n",
    "inp = Input(shape=(1,text_len))\n",
    "conv2 = Conv1D(filters=128, kernel_size=5, activation='relu', padding='same')(inp)\n",
    "drop21 = Dropout(0.5)(conv2)\n",
    "conv22 = Conv1D(filters=64, kernel_size=5, activation='relu', padding='same')(drop21)\n",
    "drop22 = Dropout(0.5)(conv22)\n",
    "pool2 = Flatten()(drop22) # this is an option to pass from 3d to 2d\n",
    "out = Dense(2, activation='softmax')(pool2) # the output dim must be equal to the num of class if u use softmax\n",
    "\n",
    "model = Model(inp, out)\n",
    "model.compile(loss='sparse_categorical_crossentropy', optimizer='adam', metrics=['accuracy'])\n",
    "model.summary()\n",
    "history = model.fit(X_train, Y_train, epochs=100,\n",
    "                    validation_data=(X_test, Y_test))"
   ]
  },
  {
   "cell_type": "code",
   "execution_count": null,
   "metadata": {},
   "outputs": [],
   "source": [
    "### now we have the kaggle dataset"
   ]
  },
  {
   "cell_type": "code",
   "execution_count": 122,
   "metadata": {},
   "outputs": [],
   "source": [
    "df = pd.read_csv('../../../datasets/kaggle/train.csv')\n"
   ]
  },
  {
   "cell_type": "code",
   "execution_count": 123,
   "metadata": {},
   "outputs": [
    {
     "data": {
      "text/html": [
       "<div>\n",
       "<style scoped>\n",
       "    .dataframe tbody tr th:only-of-type {\n",
       "        vertical-align: middle;\n",
       "    }\n",
       "\n",
       "    .dataframe tbody tr th {\n",
       "        vertical-align: top;\n",
       "    }\n",
       "\n",
       "    .dataframe thead th {\n",
       "        text-align: right;\n",
       "    }\n",
       "</style>\n",
       "<table border=\"1\" class=\"dataframe\">\n",
       "  <thead>\n",
       "    <tr style=\"text-align: right;\">\n",
       "      <th></th>\n",
       "      <th>id</th>\n",
       "      <th>title</th>\n",
       "      <th>author</th>\n",
       "      <th>text</th>\n",
       "      <th>label</th>\n",
       "    </tr>\n",
       "  </thead>\n",
       "  <tbody>\n",
       "    <tr>\n",
       "      <th>0</th>\n",
       "      <td>0</td>\n",
       "      <td>House Dem Aide: We Didn’t Even See Comey’s Let...</td>\n",
       "      <td>Darrell Lucus</td>\n",
       "      <td>House Dem Aide: We Didn’t Even See Comey’s Let...</td>\n",
       "      <td>1</td>\n",
       "    </tr>\n",
       "    <tr>\n",
       "      <th>1</th>\n",
       "      <td>1</td>\n",
       "      <td>FLYNN: Hillary Clinton, Big Woman on Campus - ...</td>\n",
       "      <td>Daniel J. Flynn</td>\n",
       "      <td>Ever get the feeling your life circles the rou...</td>\n",
       "      <td>0</td>\n",
       "    </tr>\n",
       "    <tr>\n",
       "      <th>2</th>\n",
       "      <td>2</td>\n",
       "      <td>Why the Truth Might Get You Fired</td>\n",
       "      <td>Consortiumnews.com</td>\n",
       "      <td>Why the Truth Might Get You Fired October 29, ...</td>\n",
       "      <td>1</td>\n",
       "    </tr>\n",
       "    <tr>\n",
       "      <th>3</th>\n",
       "      <td>3</td>\n",
       "      <td>15 Civilians Killed In Single US Airstrike Hav...</td>\n",
       "      <td>Jessica Purkiss</td>\n",
       "      <td>Videos 15 Civilians Killed In Single US Airstr...</td>\n",
       "      <td>1</td>\n",
       "    </tr>\n",
       "    <tr>\n",
       "      <th>4</th>\n",
       "      <td>4</td>\n",
       "      <td>Iranian woman jailed for fictional unpublished...</td>\n",
       "      <td>Howard Portnoy</td>\n",
       "      <td>Print \\nAn Iranian woman has been sentenced to...</td>\n",
       "      <td>1</td>\n",
       "    </tr>\n",
       "    <tr>\n",
       "      <th>...</th>\n",
       "      <td>...</td>\n",
       "      <td>...</td>\n",
       "      <td>...</td>\n",
       "      <td>...</td>\n",
       "      <td>...</td>\n",
       "    </tr>\n",
       "    <tr>\n",
       "      <th>20795</th>\n",
       "      <td>20795</td>\n",
       "      <td>Rapper T.I.: Trump a ’Poster Child For White S...</td>\n",
       "      <td>Jerome Hudson</td>\n",
       "      <td>Rapper T. I. unloaded on black celebrities who...</td>\n",
       "      <td>0</td>\n",
       "    </tr>\n",
       "    <tr>\n",
       "      <th>20796</th>\n",
       "      <td>20796</td>\n",
       "      <td>N.F.L. Playoffs: Schedule, Matchups and Odds -...</td>\n",
       "      <td>Benjamin Hoffman</td>\n",
       "      <td>When the Green Bay Packers lost to the Washing...</td>\n",
       "      <td>0</td>\n",
       "    </tr>\n",
       "    <tr>\n",
       "      <th>20797</th>\n",
       "      <td>20797</td>\n",
       "      <td>Macy’s Is Said to Receive Takeover Approach by...</td>\n",
       "      <td>Michael J. de la Merced and Rachel Abrams</td>\n",
       "      <td>The Macy’s of today grew from the union of sev...</td>\n",
       "      <td>0</td>\n",
       "    </tr>\n",
       "    <tr>\n",
       "      <th>20798</th>\n",
       "      <td>20798</td>\n",
       "      <td>NATO, Russia To Hold Parallel Exercises In Bal...</td>\n",
       "      <td>Alex Ansary</td>\n",
       "      <td>NATO, Russia To Hold Parallel Exercises In Bal...</td>\n",
       "      <td>1</td>\n",
       "    </tr>\n",
       "    <tr>\n",
       "      <th>20799</th>\n",
       "      <td>20799</td>\n",
       "      <td>What Keeps the F-35 Alive</td>\n",
       "      <td>David Swanson</td>\n",
       "      <td>David Swanson is an author, activist, journa...</td>\n",
       "      <td>1</td>\n",
       "    </tr>\n",
       "  </tbody>\n",
       "</table>\n",
       "<p>20800 rows × 5 columns</p>\n",
       "</div>"
      ],
      "text/plain": [
       "          id                                              title  \\\n",
       "0          0  House Dem Aide: We Didn’t Even See Comey’s Let...   \n",
       "1          1  FLYNN: Hillary Clinton, Big Woman on Campus - ...   \n",
       "2          2                  Why the Truth Might Get You Fired   \n",
       "3          3  15 Civilians Killed In Single US Airstrike Hav...   \n",
       "4          4  Iranian woman jailed for fictional unpublished...   \n",
       "...      ...                                                ...   \n",
       "20795  20795  Rapper T.I.: Trump a ’Poster Child For White S...   \n",
       "20796  20796  N.F.L. Playoffs: Schedule, Matchups and Odds -...   \n",
       "20797  20797  Macy’s Is Said to Receive Takeover Approach by...   \n",
       "20798  20798  NATO, Russia To Hold Parallel Exercises In Bal...   \n",
       "20799  20799                          What Keeps the F-35 Alive   \n",
       "\n",
       "                                          author  \\\n",
       "0                                  Darrell Lucus   \n",
       "1                                Daniel J. Flynn   \n",
       "2                             Consortiumnews.com   \n",
       "3                                Jessica Purkiss   \n",
       "4                                 Howard Portnoy   \n",
       "...                                          ...   \n",
       "20795                              Jerome Hudson   \n",
       "20796                           Benjamin Hoffman   \n",
       "20797  Michael J. de la Merced and Rachel Abrams   \n",
       "20798                                Alex Ansary   \n",
       "20799                              David Swanson   \n",
       "\n",
       "                                                    text  label  \n",
       "0      House Dem Aide: We Didn’t Even See Comey’s Let...      1  \n",
       "1      Ever get the feeling your life circles the rou...      0  \n",
       "2      Why the Truth Might Get You Fired October 29, ...      1  \n",
       "3      Videos 15 Civilians Killed In Single US Airstr...      1  \n",
       "4      Print \\nAn Iranian woman has been sentenced to...      1  \n",
       "...                                                  ...    ...  \n",
       "20795  Rapper T. I. unloaded on black celebrities who...      0  \n",
       "20796  When the Green Bay Packers lost to the Washing...      0  \n",
       "20797  The Macy’s of today grew from the union of sev...      0  \n",
       "20798  NATO, Russia To Hold Parallel Exercises In Bal...      1  \n",
       "20799    David Swanson is an author, activist, journa...      1  \n",
       "\n",
       "[20800 rows x 5 columns]"
      ]
     },
     "execution_count": 123,
     "metadata": {},
     "output_type": "execute_result"
    }
   ],
   "source": [
    "df"
   ]
  },
  {
   "cell_type": "code",
   "execution_count": 124,
   "metadata": {
    "scrolled": false
   },
   "outputs": [],
   "source": [
    "df['content'] = df['title'] + ' ' + df['text']\n",
    "df=df[df['content']==df['content']]\n",
    "df=df[df['label']==df['label']]"
   ]
  },
  {
   "cell_type": "code",
   "execution_count": 125,
   "metadata": {
    "scrolled": true
   },
   "outputs": [
    {
     "data": {
      "text/html": [
       "<div>\n",
       "<style scoped>\n",
       "    .dataframe tbody tr th:only-of-type {\n",
       "        vertical-align: middle;\n",
       "    }\n",
       "\n",
       "    .dataframe tbody tr th {\n",
       "        vertical-align: top;\n",
       "    }\n",
       "\n",
       "    .dataframe thead th {\n",
       "        text-align: right;\n",
       "    }\n",
       "</style>\n",
       "<table border=\"1\" class=\"dataframe\">\n",
       "  <thead>\n",
       "    <tr style=\"text-align: right;\">\n",
       "      <th></th>\n",
       "      <th>id</th>\n",
       "      <th>title</th>\n",
       "      <th>author</th>\n",
       "      <th>text</th>\n",
       "      <th>label</th>\n",
       "      <th>content</th>\n",
       "    </tr>\n",
       "  </thead>\n",
       "  <tbody>\n",
       "    <tr>\n",
       "      <th>0</th>\n",
       "      <td>0</td>\n",
       "      <td>House Dem Aide: We Didn’t Even See Comey’s Let...</td>\n",
       "      <td>Darrell Lucus</td>\n",
       "      <td>House Dem Aide: We Didn’t Even See Comey’s Let...</td>\n",
       "      <td>1</td>\n",
       "      <td>House Dem Aide: We Didn’t Even See Comey’s Let...</td>\n",
       "    </tr>\n",
       "    <tr>\n",
       "      <th>1</th>\n",
       "      <td>1</td>\n",
       "      <td>FLYNN: Hillary Clinton, Big Woman on Campus - ...</td>\n",
       "      <td>Daniel J. Flynn</td>\n",
       "      <td>Ever get the feeling your life circles the rou...</td>\n",
       "      <td>0</td>\n",
       "      <td>FLYNN: Hillary Clinton, Big Woman on Campus - ...</td>\n",
       "    </tr>\n",
       "    <tr>\n",
       "      <th>2</th>\n",
       "      <td>2</td>\n",
       "      <td>Why the Truth Might Get You Fired</td>\n",
       "      <td>Consortiumnews.com</td>\n",
       "      <td>Why the Truth Might Get You Fired October 29, ...</td>\n",
       "      <td>1</td>\n",
       "      <td>Why the Truth Might Get You Fired Why the Trut...</td>\n",
       "    </tr>\n",
       "    <tr>\n",
       "      <th>3</th>\n",
       "      <td>3</td>\n",
       "      <td>15 Civilians Killed In Single US Airstrike Hav...</td>\n",
       "      <td>Jessica Purkiss</td>\n",
       "      <td>Videos 15 Civilians Killed In Single US Airstr...</td>\n",
       "      <td>1</td>\n",
       "      <td>15 Civilians Killed In Single US Airstrike Hav...</td>\n",
       "    </tr>\n",
       "    <tr>\n",
       "      <th>4</th>\n",
       "      <td>4</td>\n",
       "      <td>Iranian woman jailed for fictional unpublished...</td>\n",
       "      <td>Howard Portnoy</td>\n",
       "      <td>Print \\nAn Iranian woman has been sentenced to...</td>\n",
       "      <td>1</td>\n",
       "      <td>Iranian woman jailed for fictional unpublished...</td>\n",
       "    </tr>\n",
       "    <tr>\n",
       "      <th>...</th>\n",
       "      <td>...</td>\n",
       "      <td>...</td>\n",
       "      <td>...</td>\n",
       "      <td>...</td>\n",
       "      <td>...</td>\n",
       "      <td>...</td>\n",
       "    </tr>\n",
       "    <tr>\n",
       "      <th>20795</th>\n",
       "      <td>20795</td>\n",
       "      <td>Rapper T.I.: Trump a ’Poster Child For White S...</td>\n",
       "      <td>Jerome Hudson</td>\n",
       "      <td>Rapper T. I. unloaded on black celebrities who...</td>\n",
       "      <td>0</td>\n",
       "      <td>Rapper T.I.: Trump a ’Poster Child For White S...</td>\n",
       "    </tr>\n",
       "    <tr>\n",
       "      <th>20796</th>\n",
       "      <td>20796</td>\n",
       "      <td>N.F.L. Playoffs: Schedule, Matchups and Odds -...</td>\n",
       "      <td>Benjamin Hoffman</td>\n",
       "      <td>When the Green Bay Packers lost to the Washing...</td>\n",
       "      <td>0</td>\n",
       "      <td>N.F.L. Playoffs: Schedule, Matchups and Odds -...</td>\n",
       "    </tr>\n",
       "    <tr>\n",
       "      <th>20797</th>\n",
       "      <td>20797</td>\n",
       "      <td>Macy’s Is Said to Receive Takeover Approach by...</td>\n",
       "      <td>Michael J. de la Merced and Rachel Abrams</td>\n",
       "      <td>The Macy’s of today grew from the union of sev...</td>\n",
       "      <td>0</td>\n",
       "      <td>Macy’s Is Said to Receive Takeover Approach by...</td>\n",
       "    </tr>\n",
       "    <tr>\n",
       "      <th>20798</th>\n",
       "      <td>20798</td>\n",
       "      <td>NATO, Russia To Hold Parallel Exercises In Bal...</td>\n",
       "      <td>Alex Ansary</td>\n",
       "      <td>NATO, Russia To Hold Parallel Exercises In Bal...</td>\n",
       "      <td>1</td>\n",
       "      <td>NATO, Russia To Hold Parallel Exercises In Bal...</td>\n",
       "    </tr>\n",
       "    <tr>\n",
       "      <th>20799</th>\n",
       "      <td>20799</td>\n",
       "      <td>What Keeps the F-35 Alive</td>\n",
       "      <td>David Swanson</td>\n",
       "      <td>David Swanson is an author, activist, journa...</td>\n",
       "      <td>1</td>\n",
       "      <td>What Keeps the F-35 Alive   David Swanson is a...</td>\n",
       "    </tr>\n",
       "  </tbody>\n",
       "</table>\n",
       "<p>20203 rows × 6 columns</p>\n",
       "</div>"
      ],
      "text/plain": [
       "          id                                              title  \\\n",
       "0          0  House Dem Aide: We Didn’t Even See Comey’s Let...   \n",
       "1          1  FLYNN: Hillary Clinton, Big Woman on Campus - ...   \n",
       "2          2                  Why the Truth Might Get You Fired   \n",
       "3          3  15 Civilians Killed In Single US Airstrike Hav...   \n",
       "4          4  Iranian woman jailed for fictional unpublished...   \n",
       "...      ...                                                ...   \n",
       "20795  20795  Rapper T.I.: Trump a ’Poster Child For White S...   \n",
       "20796  20796  N.F.L. Playoffs: Schedule, Matchups and Odds -...   \n",
       "20797  20797  Macy’s Is Said to Receive Takeover Approach by...   \n",
       "20798  20798  NATO, Russia To Hold Parallel Exercises In Bal...   \n",
       "20799  20799                          What Keeps the F-35 Alive   \n",
       "\n",
       "                                          author  \\\n",
       "0                                  Darrell Lucus   \n",
       "1                                Daniel J. Flynn   \n",
       "2                             Consortiumnews.com   \n",
       "3                                Jessica Purkiss   \n",
       "4                                 Howard Portnoy   \n",
       "...                                          ...   \n",
       "20795                              Jerome Hudson   \n",
       "20796                           Benjamin Hoffman   \n",
       "20797  Michael J. de la Merced and Rachel Abrams   \n",
       "20798                                Alex Ansary   \n",
       "20799                              David Swanson   \n",
       "\n",
       "                                                    text  label  \\\n",
       "0      House Dem Aide: We Didn’t Even See Comey’s Let...      1   \n",
       "1      Ever get the feeling your life circles the rou...      0   \n",
       "2      Why the Truth Might Get You Fired October 29, ...      1   \n",
       "3      Videos 15 Civilians Killed In Single US Airstr...      1   \n",
       "4      Print \\nAn Iranian woman has been sentenced to...      1   \n",
       "...                                                  ...    ...   \n",
       "20795  Rapper T. I. unloaded on black celebrities who...      0   \n",
       "20796  When the Green Bay Packers lost to the Washing...      0   \n",
       "20797  The Macy’s of today grew from the union of sev...      0   \n",
       "20798  NATO, Russia To Hold Parallel Exercises In Bal...      1   \n",
       "20799    David Swanson is an author, activist, journa...      1   \n",
       "\n",
       "                                                 content  \n",
       "0      House Dem Aide: We Didn’t Even See Comey’s Let...  \n",
       "1      FLYNN: Hillary Clinton, Big Woman on Campus - ...  \n",
       "2      Why the Truth Might Get You Fired Why the Trut...  \n",
       "3      15 Civilians Killed In Single US Airstrike Hav...  \n",
       "4      Iranian woman jailed for fictional unpublished...  \n",
       "...                                                  ...  \n",
       "20795  Rapper T.I.: Trump a ’Poster Child For White S...  \n",
       "20796  N.F.L. Playoffs: Schedule, Matchups and Odds -...  \n",
       "20797  Macy’s Is Said to Receive Takeover Approach by...  \n",
       "20798  NATO, Russia To Hold Parallel Exercises In Bal...  \n",
       "20799  What Keeps the F-35 Alive   David Swanson is a...  \n",
       "\n",
       "[20203 rows x 6 columns]"
      ]
     },
     "execution_count": 125,
     "metadata": {},
     "output_type": "execute_result"
    }
   ],
   "source": [
    "df"
   ]
  },
  {
   "cell_type": "code",
   "execution_count": 126,
   "metadata": {},
   "outputs": [],
   "source": [
    "df.to_csv('../../../datasets/kaggle/final.csv')"
   ]
  },
  {
   "cell_type": "code",
   "execution_count": 127,
   "metadata": {},
   "outputs": [],
   "source": [
    "df=pd.read_csv('../../../datasets/kaggle/final.csv')"
   ]
  },
  {
   "cell_type": "code",
   "execution_count": 128,
   "metadata": {},
   "outputs": [
    {
     "data": {
      "text/html": [
       "<div>\n",
       "<style scoped>\n",
       "    .dataframe tbody tr th:only-of-type {\n",
       "        vertical-align: middle;\n",
       "    }\n",
       "\n",
       "    .dataframe tbody tr th {\n",
       "        vertical-align: top;\n",
       "    }\n",
       "\n",
       "    .dataframe thead th {\n",
       "        text-align: right;\n",
       "    }\n",
       "</style>\n",
       "<table border=\"1\" class=\"dataframe\">\n",
       "  <thead>\n",
       "    <tr style=\"text-align: right;\">\n",
       "      <th></th>\n",
       "      <th>Unnamed: 0</th>\n",
       "      <th>id</th>\n",
       "      <th>title</th>\n",
       "      <th>author</th>\n",
       "      <th>text</th>\n",
       "      <th>label</th>\n",
       "      <th>content</th>\n",
       "    </tr>\n",
       "  </thead>\n",
       "  <tbody>\n",
       "    <tr>\n",
       "      <th>0</th>\n",
       "      <td>0</td>\n",
       "      <td>0</td>\n",
       "      <td>House Dem Aide: We Didn’t Even See Comey’s Let...</td>\n",
       "      <td>Darrell Lucus</td>\n",
       "      <td>House Dem Aide: We Didn’t Even See Comey’s Let...</td>\n",
       "      <td>1</td>\n",
       "      <td>House Dem Aide: We Didn’t Even See Comey’s Let...</td>\n",
       "    </tr>\n",
       "    <tr>\n",
       "      <th>1</th>\n",
       "      <td>1</td>\n",
       "      <td>1</td>\n",
       "      <td>FLYNN: Hillary Clinton, Big Woman on Campus - ...</td>\n",
       "      <td>Daniel J. Flynn</td>\n",
       "      <td>Ever get the feeling your life circles the rou...</td>\n",
       "      <td>0</td>\n",
       "      <td>FLYNN: Hillary Clinton, Big Woman on Campus - ...</td>\n",
       "    </tr>\n",
       "    <tr>\n",
       "      <th>2</th>\n",
       "      <td>2</td>\n",
       "      <td>2</td>\n",
       "      <td>Why the Truth Might Get You Fired</td>\n",
       "      <td>Consortiumnews.com</td>\n",
       "      <td>Why the Truth Might Get You Fired October 29, ...</td>\n",
       "      <td>1</td>\n",
       "      <td>Why the Truth Might Get You Fired Why the Trut...</td>\n",
       "    </tr>\n",
       "    <tr>\n",
       "      <th>3</th>\n",
       "      <td>3</td>\n",
       "      <td>3</td>\n",
       "      <td>15 Civilians Killed In Single US Airstrike Hav...</td>\n",
       "      <td>Jessica Purkiss</td>\n",
       "      <td>Videos 15 Civilians Killed In Single US Airstr...</td>\n",
       "      <td>1</td>\n",
       "      <td>15 Civilians Killed In Single US Airstrike Hav...</td>\n",
       "    </tr>\n",
       "    <tr>\n",
       "      <th>4</th>\n",
       "      <td>4</td>\n",
       "      <td>4</td>\n",
       "      <td>Iranian woman jailed for fictional unpublished...</td>\n",
       "      <td>Howard Portnoy</td>\n",
       "      <td>Print \\nAn Iranian woman has been sentenced to...</td>\n",
       "      <td>1</td>\n",
       "      <td>Iranian woman jailed for fictional unpublished...</td>\n",
       "    </tr>\n",
       "    <tr>\n",
       "      <th>...</th>\n",
       "      <td>...</td>\n",
       "      <td>...</td>\n",
       "      <td>...</td>\n",
       "      <td>...</td>\n",
       "      <td>...</td>\n",
       "      <td>...</td>\n",
       "      <td>...</td>\n",
       "    </tr>\n",
       "    <tr>\n",
       "      <th>20198</th>\n",
       "      <td>20795</td>\n",
       "      <td>20795</td>\n",
       "      <td>Rapper T.I.: Trump a ’Poster Child For White S...</td>\n",
       "      <td>Jerome Hudson</td>\n",
       "      <td>Rapper T. I. unloaded on black celebrities who...</td>\n",
       "      <td>0</td>\n",
       "      <td>Rapper T.I.: Trump a ’Poster Child For White S...</td>\n",
       "    </tr>\n",
       "    <tr>\n",
       "      <th>20199</th>\n",
       "      <td>20796</td>\n",
       "      <td>20796</td>\n",
       "      <td>N.F.L. Playoffs: Schedule, Matchups and Odds -...</td>\n",
       "      <td>Benjamin Hoffman</td>\n",
       "      <td>When the Green Bay Packers lost to the Washing...</td>\n",
       "      <td>0</td>\n",
       "      <td>N.F.L. Playoffs: Schedule, Matchups and Odds -...</td>\n",
       "    </tr>\n",
       "    <tr>\n",
       "      <th>20200</th>\n",
       "      <td>20797</td>\n",
       "      <td>20797</td>\n",
       "      <td>Macy’s Is Said to Receive Takeover Approach by...</td>\n",
       "      <td>Michael J. de la Merced and Rachel Abrams</td>\n",
       "      <td>The Macy’s of today grew from the union of sev...</td>\n",
       "      <td>0</td>\n",
       "      <td>Macy’s Is Said to Receive Takeover Approach by...</td>\n",
       "    </tr>\n",
       "    <tr>\n",
       "      <th>20201</th>\n",
       "      <td>20798</td>\n",
       "      <td>20798</td>\n",
       "      <td>NATO, Russia To Hold Parallel Exercises In Bal...</td>\n",
       "      <td>Alex Ansary</td>\n",
       "      <td>NATO, Russia To Hold Parallel Exercises In Bal...</td>\n",
       "      <td>1</td>\n",
       "      <td>NATO, Russia To Hold Parallel Exercises In Bal...</td>\n",
       "    </tr>\n",
       "    <tr>\n",
       "      <th>20202</th>\n",
       "      <td>20799</td>\n",
       "      <td>20799</td>\n",
       "      <td>What Keeps the F-35 Alive</td>\n",
       "      <td>David Swanson</td>\n",
       "      <td>David Swanson is an author, activist, journa...</td>\n",
       "      <td>1</td>\n",
       "      <td>What Keeps the F-35 Alive   David Swanson is a...</td>\n",
       "    </tr>\n",
       "  </tbody>\n",
       "</table>\n",
       "<p>20203 rows × 7 columns</p>\n",
       "</div>"
      ],
      "text/plain": [
       "       Unnamed: 0     id                                              title  \\\n",
       "0               0      0  House Dem Aide: We Didn’t Even See Comey’s Let...   \n",
       "1               1      1  FLYNN: Hillary Clinton, Big Woman on Campus - ...   \n",
       "2               2      2                  Why the Truth Might Get You Fired   \n",
       "3               3      3  15 Civilians Killed In Single US Airstrike Hav...   \n",
       "4               4      4  Iranian woman jailed for fictional unpublished...   \n",
       "...           ...    ...                                                ...   \n",
       "20198       20795  20795  Rapper T.I.: Trump a ’Poster Child For White S...   \n",
       "20199       20796  20796  N.F.L. Playoffs: Schedule, Matchups and Odds -...   \n",
       "20200       20797  20797  Macy’s Is Said to Receive Takeover Approach by...   \n",
       "20201       20798  20798  NATO, Russia To Hold Parallel Exercises In Bal...   \n",
       "20202       20799  20799                          What Keeps the F-35 Alive   \n",
       "\n",
       "                                          author  \\\n",
       "0                                  Darrell Lucus   \n",
       "1                                Daniel J. Flynn   \n",
       "2                             Consortiumnews.com   \n",
       "3                                Jessica Purkiss   \n",
       "4                                 Howard Portnoy   \n",
       "...                                          ...   \n",
       "20198                              Jerome Hudson   \n",
       "20199                           Benjamin Hoffman   \n",
       "20200  Michael J. de la Merced and Rachel Abrams   \n",
       "20201                                Alex Ansary   \n",
       "20202                              David Swanson   \n",
       "\n",
       "                                                    text  label  \\\n",
       "0      House Dem Aide: We Didn’t Even See Comey’s Let...      1   \n",
       "1      Ever get the feeling your life circles the rou...      0   \n",
       "2      Why the Truth Might Get You Fired October 29, ...      1   \n",
       "3      Videos 15 Civilians Killed In Single US Airstr...      1   \n",
       "4      Print \\nAn Iranian woman has been sentenced to...      1   \n",
       "...                                                  ...    ...   \n",
       "20198  Rapper T. I. unloaded on black celebrities who...      0   \n",
       "20199  When the Green Bay Packers lost to the Washing...      0   \n",
       "20200  The Macy’s of today grew from the union of sev...      0   \n",
       "20201  NATO, Russia To Hold Parallel Exercises In Bal...      1   \n",
       "20202    David Swanson is an author, activist, journa...      1   \n",
       "\n",
       "                                                 content  \n",
       "0      House Dem Aide: We Didn’t Even See Comey’s Let...  \n",
       "1      FLYNN: Hillary Clinton, Big Woman on Campus - ...  \n",
       "2      Why the Truth Might Get You Fired Why the Trut...  \n",
       "3      15 Civilians Killed In Single US Airstrike Hav...  \n",
       "4      Iranian woman jailed for fictional unpublished...  \n",
       "...                                                  ...  \n",
       "20198  Rapper T.I.: Trump a ’Poster Child For White S...  \n",
       "20199  N.F.L. Playoffs: Schedule, Matchups and Odds -...  \n",
       "20200  Macy’s Is Said to Receive Takeover Approach by...  \n",
       "20201  NATO, Russia To Hold Parallel Exercises In Bal...  \n",
       "20202  What Keeps the F-35 Alive   David Swanson is a...  \n",
       "\n",
       "[20203 rows x 7 columns]"
      ]
     },
     "execution_count": 128,
     "metadata": {},
     "output_type": "execute_result"
    }
   ],
   "source": [
    "df"
   ]
  },
  {
   "cell_type": "code",
   "execution_count": 129,
   "metadata": {},
   "outputs": [],
   "source": [
    "X=df['content']\n",
    "Y=df['label']"
   ]
  },
  {
   "cell_type": "code",
   "execution_count": 130,
   "metadata": {},
   "outputs": [
    {
     "data": {
      "text/plain": [
       "0        1\n",
       "1        0\n",
       "2        1\n",
       "3        1\n",
       "4        1\n",
       "        ..\n",
       "20198    0\n",
       "20199    0\n",
       "20200    0\n",
       "20201    1\n",
       "20202    1\n",
       "Name: label, Length: 20203, dtype: int64"
      ]
     },
     "execution_count": 130,
     "metadata": {},
     "output_type": "execute_result"
    }
   ],
   "source": [
    "Y"
   ]
  },
  {
   "cell_type": "code",
   "execution_count": 131,
   "metadata": {},
   "outputs": [],
   "source": [
    "X = X.str.replace('[^a-zA-Z]',' ').str.lower()\n"
   ]
  },
  {
   "cell_type": "code",
   "execution_count": 132,
   "metadata": {},
   "outputs": [
    {
     "data": {
      "text/plain": [
       "0    house dem aide     even see comey  letter  jas...\n",
       "1    flynn  hillary clinton  big woman  campus   br...\n",
       "2      truth might get  fired   truth might get  fi...\n",
       "3       civilians killed  single us airstrike   ide...\n",
       "4    iranian woman jailed  fictional unpublished st...\n",
       "Name: content, dtype: object"
      ]
     },
     "execution_count": 132,
     "metadata": {},
     "output_type": "execute_result"
    }
   ],
   "source": [
    "stop_re = '\\\\b'+'\\\\b|\\\\b'.join(nltk.corpus.stopwords.words('english'))+'\\\\b'\n",
    "X = X.str.replace(stop_re, '')\n",
    "X.head()"
   ]
  },
  {
   "cell_type": "code",
   "execution_count": 133,
   "metadata": {},
   "outputs": [
    {
     "data": {
      "text/plain": [
       "'life  life  luxury  elton john    favorite shark pictures  stare   long  transcontinental flights ever wonder  britain   iconic pop pianist gets   long flight     six pictures  sharks sir elton john likes  stare   pass  time   airplane      shark swimming  sit next  elton john   flight    see  man living   lap  luxury    immediately tapes  photo   shark darting   ocean   window  stare  throughout  trip   platinum selling artist   known  pull  window shade   make  shark disappear    quickly retract   mark  animal  triumphant return    often repeat  act dozens  times per flight      great white shark leaping   air      international pop sensation worth  estimated      million  people go  extra mile  make  happy  flight crews  instructed  place  photo   breaching great white  elton john  seat back pocket   even boards  plane   five time grammy winner loves  pull  image    leisure  stare   flying  sometimes holding   mere      inches away   face   fixates upon  shark  beady eyes      shark   prowl  rumor   elton john first acquired  shark photo          flying  london  perform  candle   wind   princess diana  funeral      staple   travel routine ever since     flown   music legend say  sir elton turns  every single overhead light   row  study  picture   magnifying glass     two hammerhead sharks     man behind  tiny dancer    rocket man  handle turbulence   plane traverses  atlantic     fasten seat belts  sign lights    picture  two hammerhead sharks comes   elton john holds  photo   tight vice grip  stares straight     turbulence passes  often without blinking  minutes   time      poster  jaws  sir elton john absolutely adores  poster  steven spielberg  jaws  hopes  one day see  film    meantime   british icon makes   slowly unfolding         inch copy   poster whenever     long flight  gently tracing  shark  teeth   finger   stares lovingly   gaping mouth     pilot  choice   much  elton relishes   calming regularity   shark picture rotation   also loves  excitement  gazing upon  totally unexpected shark  flying  london   distant corner  europe      pilots  fly sir elton print   shark picture   choice   home computers  going   airport   hand    visibly excited musician prior  takeoff   yeah   good   elton '"
      ]
     },
     "execution_count": 133,
     "metadata": {},
     "output_type": "execute_result"
    }
   ],
   "source": [
    "X[6]"
   ]
  },
  {
   "cell_type": "code",
   "execution_count": 134,
   "metadata": {},
   "outputs": [],
   "source": [
    "from nltk.stem.porter import PorterStemmer\n",
    "ps = PorterStemmer()\n",
    "for i in range(0, len(X)):\n",
    "    s=X[i]\n",
    "    st=\"\"\n",
    "    st+=\" \".join([ps.stem(i) for i in s.split()])\n",
    "    X[i]=st"
   ]
  },
  {
   "cell_type": "code",
   "execution_count": 135,
   "metadata": {},
   "outputs": [],
   "source": [
    "# Tokenize words\n",
    "X = X.str.split()"
   ]
  },
  {
   "cell_type": "code",
   "execution_count": 136,
   "metadata": {},
   "outputs": [],
   "source": [
    "from sklearn.model_selection import train_test_split"
   ]
  },
  {
   "cell_type": "code",
   "execution_count": 137,
   "metadata": {},
   "outputs": [],
   "source": [
    "X_train, X_test, Y_train, Y_test = train_test_split(X, Y, test_size=0.25, random_state=42)"
   ]
  },
  {
   "cell_type": "code",
   "execution_count": 138,
   "metadata": {},
   "outputs": [
    {
     "data": {
      "text/plain": [
       "5112     [treadmil, tip, burn, calori, common, mistak, ...\n",
       "11313    [oregon, juri, rule, favor, st, amend, find, m...\n",
       "3184     [isra, minist, publicli, meet, gulf, offici, c...\n",
       "13920    [ossetian, nomad, warrior, artist, caucasu, an...\n",
       "10791    [leftist, media, outlet, attack, marin, memori...\n",
       "                               ...                        \n",
       "17497    [chancellor, announc, bn, cybercrim, fund, com...\n",
       "14307    [healthi, vegan, peanut, butter, cup, recip, g...\n",
       "17655    [wheelchair, broadway, exploit, progress, new,...\n",
       "18789    [name, speak, italian, earthquak, retribut, an...\n",
       "7606     [max, keiser, trump, presid, acid, test, us, c...\n",
       "Name: content, Length: 5051, dtype: object"
      ]
     },
     "execution_count": 138,
     "metadata": {},
     "output_type": "execute_result"
    }
   ],
   "source": [
    "X_test"
   ]
  },
  {
   "cell_type": "code",
   "execution_count": 139,
   "metadata": {},
   "outputs": [],
   "source": [
    "w2vtest = gensim.models.Word2Vec(X_test.tolist(), min_count=1)\n",
    "w2vtrain = gensim.models.Word2Vec(X_train.tolist(), min_count=1)"
   ]
  },
  {
   "cell_type": "code",
   "execution_count": 140,
   "metadata": {},
   "outputs": [
    {
     "name": "stdout",
     "output_type": "stream",
     "text": [
      "Word2Vec(vocab=52502, size=100, alpha=0.025)\n"
     ]
    }
   ],
   "source": [
    "print(w2vtest)"
   ]
  },
  {
   "cell_type": "code",
   "execution_count": 141,
   "metadata": {},
   "outputs": [
    {
     "name": "stdout",
     "output_type": "stream",
     "text": [
      "Word2Vec(vocab=96611, size=100, alpha=0.025)\n"
     ]
    }
   ],
   "source": [
    "print(w2vtrain)"
   ]
  },
  {
   "cell_type": "code",
   "execution_count": 142,
   "metadata": {},
   "outputs": [
    {
     "name": "stderr",
     "output_type": "stream",
     "text": [
      "/Users/lovedeepsingh/anaconda3/lib/python3.7/site-packages/ipykernel_launcher.py:1: DeprecationWarning: Call to deprecated `__getitem__` (Method will be removed in 4.0.0, use self.wv.__getitem__() instead).\n",
      "  \"\"\"Entry point for launching an IPython kernel.\n"
     ]
    },
    {
     "data": {
      "text/plain": [
       "100"
      ]
     },
     "execution_count": 142,
     "metadata": {},
     "output_type": "execute_result"
    }
   ],
   "source": [
    "len(w2vtest['max'])"
   ]
  },
  {
   "cell_type": "code",
   "execution_count": 147,
   "metadata": {},
   "outputs": [],
   "source": [
    "X_test=X_test.reset_index()\n",
    "Y_test=Y_test.reset_index()\n",
    "X_train=X_train.reset_index()\n",
    "Y_train=Y_train.reset_index()"
   ]
  },
  {
   "cell_type": "code",
   "execution_count": 156,
   "metadata": {},
   "outputs": [],
   "source": [
    "Y_test=Y_test['label']"
   ]
  },
  {
   "cell_type": "code",
   "execution_count": 157,
   "metadata": {},
   "outputs": [
    {
     "data": {
      "text/plain": [
       "0       1\n",
       "1       1\n",
       "2       0\n",
       "3       1\n",
       "4       0\n",
       "       ..\n",
       "5046    1\n",
       "5047    1\n",
       "5048    0\n",
       "5049    1\n",
       "5050    1\n",
       "Name: label, Length: 5051, dtype: int64"
      ]
     },
     "execution_count": 157,
     "metadata": {},
     "output_type": "execute_result"
    }
   ],
   "source": [
    "Y_test"
   ]
  },
  {
   "cell_type": "code",
   "execution_count": 159,
   "metadata": {},
   "outputs": [],
   "source": [
    "X_test=X_test['content']\n",
    "X_train=X_train['content']\n",
    "Y_train=Y_train['label']"
   ]
  },
  {
   "cell_type": "code",
   "execution_count": 160,
   "metadata": {},
   "outputs": [
    {
     "data": {
      "text/plain": [
       "0       [treadmil, tip, burn, calori, common, mistak, ...\n",
       "1       [oregon, juri, rule, favor, st, amend, find, m...\n",
       "2       [isra, minist, publicli, meet, gulf, offici, c...\n",
       "3       [ossetian, nomad, warrior, artist, caucasu, an...\n",
       "4       [leftist, media, outlet, attack, marin, memori...\n",
       "                              ...                        \n",
       "5046    [chancellor, announc, bn, cybercrim, fund, com...\n",
       "5047    [healthi, vegan, peanut, butter, cup, recip, g...\n",
       "5048    [wheelchair, broadway, exploit, progress, new,...\n",
       "5049    [name, speak, italian, earthquak, retribut, an...\n",
       "5050    [max, keiser, trump, presid, acid, test, us, c...\n",
       "Name: content, Length: 5051, dtype: object"
      ]
     },
     "execution_count": 160,
     "metadata": {},
     "output_type": "execute_result"
    }
   ],
   "source": [
    "X_test"
   ]
  },
  {
   "cell_type": "code",
   "execution_count": 161,
   "metadata": {},
   "outputs": [
    {
     "name": "stderr",
     "output_type": "stream",
     "text": [
      "/Users/lovedeepsingh/anaconda3/lib/python3.7/site-packages/ipykernel_launcher.py:6: DeprecationWarning: Call to deprecated `__getitem__` (Method will be removed in 4.0.0, use self.wv.__getitem__() instead).\n",
      "  \n",
      "/Users/lovedeepsingh/anaconda3/lib/python3.7/site-packages/ipykernel_launcher.py:9: SettingWithCopyWarning: \n",
      "A value is trying to be set on a copy of a slice from a DataFrame\n",
      "\n",
      "See the caveats in the documentation: https://pandas.pydata.org/pandas-docs/stable/user_guide/indexing.html#returning-a-view-versus-a-copy\n",
      "  if __name__ == '__main__':\n"
     ]
    }
   ],
   "source": [
    "X_test=transform_data(X_test,w2vtest)\n",
    "X_train=transform_data(X_train,w2vtrain)"
   ]
  },
  {
   "cell_type": "code",
   "execution_count": 162,
   "metadata": {},
   "outputs": [
    {
     "data": {
      "text/plain": [
       "0       [1.1574951366055757, -0.6501137727970491, -0.0...\n",
       "1       [-0.010415482670359778, -1.474088689541095, 0....\n",
       "2       [-0.05531457097735256, -1.26375282262743, 0.06...\n",
       "3       [0.16823742839274927, -2.219232960373629, 1.27...\n",
       "4       [-0.15816534176003189, -0.32798882374889216, 1...\n",
       "                              ...                        \n",
       "5046    [-0.18621567367576064, -0.32924462961731477, 0...\n",
       "5047    [-0.5359470173646695, -0.38201703933475073, 1....\n",
       "5048    [0.37699203576892615, 0.7643944348975492, -0.1...\n",
       "5049    [-0.5477321320020201, -2.036060346047161, 1.20...\n",
       "5050    [0.005285312868654728, -0.1833259116113186, 0....\n",
       "Name: content, Length: 5051, dtype: object"
      ]
     },
     "execution_count": 162,
     "metadata": {},
     "output_type": "execute_result"
    }
   ],
   "source": [
    "X_test"
   ]
  },
  {
   "cell_type": "code",
   "execution_count": 163,
   "metadata": {},
   "outputs": [
    {
     "name": "stderr",
     "output_type": "stream",
     "text": [
      "/Users/lovedeepsingh/anaconda3/lib/python3.7/site-packages/ipykernel_launcher.py:1: DeprecationWarning: Call to deprecated `__getitem__` (Method will be removed in 4.0.0, use self.wv.__getitem__() instead).\n",
      "  \"\"\"Entry point for launching an IPython kernel.\n",
      "/Users/lovedeepsingh/anaconda3/lib/python3.7/site-packages/ipykernel_launcher.py:2: DeprecationWarning: Call to deprecated `__getitem__` (Method will be removed in 4.0.0, use self.wv.__getitem__() instead).\n",
      "  \n"
     ]
    }
   ],
   "source": [
    "X1 = w2vtest[w2vtest.wv.vocab]\n",
    "X2 = w2vtrain[w2vtrain.wv.vocab]"
   ]
  },
  {
   "cell_type": "code",
   "execution_count": 164,
   "metadata": {},
   "outputs": [
    {
     "data": {
      "image/png": "[encoded data removed]",
      "text/plain": [
       "<Figure size 432x288 with 1 Axes>"
      ]
     },
     "metadata": {
      "needs_background": "light"
     },
     "output_type": "display_data"
    }
   ],
   "source": [
    "import matplotlib.pyplot as pyplot\n",
    "from sklearn.decomposition import PCA\n",
    "pca = PCA(n_components=2)\n",
    "result = pca.fit_transform(X1)\n",
    "# create a scatter plot of the projection\n",
    "pyplot.scatter(result[:, 0], result[:, 1])\n",
    "words = list(w2vtest.wv.vocab)\n",
    "for i, word in enumerate(words):\n",
    "\tpyplot.annotate(word, xy=(result[i, 0], result[i, 1]))\n",
    "pyplot.show()"
   ]
  },
  {
   "cell_type": "code",
   "execution_count": 165,
   "metadata": {},
   "outputs": [
    {
     "data": {
      "image/png": "[encoded data removed]",
      "text/plain": [
       "<Figure size 432x288 with 1 Axes>"
      ]
     },
     "metadata": {
      "needs_background": "light"
     },
     "output_type": "display_data"
    }
   ],
   "source": [
    "import matplotlib.pyplot as pyplot\n",
    "from sklearn.decomposition import PCA\n",
    "pca = PCA(n_components=2)\n",
    "result = pca.fit_transform(X2)\n",
    "# create a scatter plot of the projection\n",
    "pyplot.scatter(result[:, 0], result[:, 1])\n",
    "words = list(w2vtrain.wv.vocab)\n",
    "for i, word in enumerate(words):\n",
    "\tpyplot.annotate(word, xy=(result[i, 0], result[i, 1]))\n",
    "pyplot.show()"
   ]
  },
  {
   "cell_type": "code",
   "execution_count": 169,
   "metadata": {},
   "outputs": [
    {
     "data": {
      "text/plain": [
       "(5051, 1)"
      ]
     },
     "execution_count": 169,
     "metadata": {},
     "output_type": "execute_result"
    }
   ],
   "source": [
    "X_test.shape"
   ]
  },
  {
   "cell_type": "code",
   "execution_count": 170,
   "metadata": {},
   "outputs": [],
   "source": [
    "X_train = np.array(X_train.tolist())\n",
    "X_test = np.array(X_test.tolist())"
   ]
  },
  {
   "cell_type": "code",
   "execution_count": 173,
   "metadata": {},
   "outputs": [],
   "source": [
    "Y_train = np.array(Y_train.tolist())\n",
    "Y_test = np.array(Y_test.tolist())"
   ]
  },
  {
   "cell_type": "code",
   "execution_count": 172,
   "metadata": {},
   "outputs": [
    {
     "data": {
      "text/plain": [
       "(15152, 1, 100)"
      ]
     },
     "execution_count": 172,
     "metadata": {},
     "output_type": "execute_result"
    }
   ],
   "source": [
    "X_train.shape"
   ]
  },
  {
   "cell_type": "code",
   "execution_count": 174,
   "metadata": {},
   "outputs": [
    {
     "name": "stdout",
     "output_type": "stream",
     "text": [
      "Model: \"model_2\"\n",
      "_________________________________________________________________\n",
      "Layer (type)                 Output Shape              Param #   \n",
      "=================================================================\n",
      "input_3 (InputLayer)         [(None, 1, 100)]          0         \n",
      "_________________________________________________________________\n",
      "conv1d_4 (Conv1D)            (None, 1, 128)            64128     \n",
      "_________________________________________________________________\n",
      "dropout_4 (Dropout)          (None, 1, 128)            0         \n",
      "_________________________________________________________________\n",
      "conv1d_5 (Conv1D)            (None, 1, 64)             41024     \n",
      "_________________________________________________________________\n",
      "dropout_5 (Dropout)          (None, 1, 64)             0         \n",
      "_________________________________________________________________\n",
      "flatten_2 (Flatten)          (None, 64)                0         \n",
      "_________________________________________________________________\n",
      "dense_2 (Dense)              (None, 2)                 130       \n",
      "=================================================================\n",
      "Total params: 105,282\n",
      "Trainable params: 105,282\n",
      "Non-trainable params: 0\n",
      "_________________________________________________________________\n",
      "Train on 15152 samples, validate on 5051 samples\n",
      "Epoch 1/100\n",
      "15152/15152 [==============================] - 9s 609us/sample - loss: 0.3882 - accuracy: 0.8332 - val_loss: 0.4365 - val_accuracy: 0.8082\n",
      "Epoch 2/100\n",
      "15152/15152 [==============================] - 7s 454us/sample - loss: 0.2908 - accuracy: 0.8815 - val_loss: 0.5917 - val_accuracy: 0.7595\n",
      "Epoch 3/100\n",
      "15152/15152 [==============================] - 7s 437us/sample - loss: 0.2657 - accuracy: 0.8919 - val_loss: 0.7282 - val_accuracy: 0.7238\n",
      "Epoch 4/100\n",
      "15152/15152 [==============================] - 7s 448us/sample - loss: 0.2616 - accuracy: 0.8963 - val_loss: 0.6308 - val_accuracy: 0.7547\n",
      "Epoch 5/100\n",
      "15152/15152 [==============================] - 7s 450us/sample - loss: 0.2519 - accuracy: 0.8986 - val_loss: 0.6519 - val_accuracy: 0.7337\n",
      "Epoch 6/100\n",
      "15152/15152 [==============================] - 7s 453us/sample - loss: 0.2379 - accuracy: 0.9027 - val_loss: 0.6692 - val_accuracy: 0.7351\n",
      "Epoch 7/100\n",
      "15152/15152 [==============================] - 7s 449us/sample - loss: 0.2417 - accuracy: 0.9027 - val_loss: 0.7575 - val_accuracy: 0.7020\n",
      "Epoch 8/100\n",
      "15152/15152 [==============================] - 7s 432us/sample - loss: 0.2340 - accuracy: 0.9058 - val_loss: 0.5966 - val_accuracy: 0.7547\n",
      "Epoch 9/100\n",
      "15152/15152 [==============================] - 7s 444us/sample - loss: 0.2284 - accuracy: 0.9091 - val_loss: 0.7290 - val_accuracy: 0.7240\n",
      "Epoch 10/100\n",
      "15152/15152 [==============================] - 16s 1ms/sample - loss: 0.2198 - accuracy: 0.9131 - val_loss: 0.5998 - val_accuracy: 0.7543\n",
      "Epoch 11/100\n",
      "15152/15152 [==============================] - 7s 475us/sample - loss: 0.2192 - accuracy: 0.9118 - val_loss: 0.5924 - val_accuracy: 0.7545\n",
      "Epoch 12/100\n",
      "15152/15152 [==============================] - 7s 485us/sample - loss: 0.2170 - accuracy: 0.9116 - val_loss: 0.5399 - val_accuracy: 0.7598\n",
      "Epoch 13/100\n",
      "15152/15152 [==============================] - 11s 730us/sample - loss: 0.2183 - accuracy: 0.9140 - val_loss: 0.4909 - val_accuracy: 0.7895\n",
      "Epoch 14/100\n",
      "15152/15152 [==============================] - 12s 767us/sample - loss: 0.2098 - accuracy: 0.9162 - val_loss: 0.5478 - val_accuracy: 0.7711\n",
      "Epoch 15/100\n",
      "15152/15152 [==============================] - 14s 916us/sample - loss: 0.2064 - accuracy: 0.9159 - val_loss: 0.5598 - val_accuracy: 0.7418\n",
      "Epoch 16/100\n",
      "15152/15152 [==============================] - 7s 457us/sample - loss: 0.2106 - accuracy: 0.9174 - val_loss: 0.5387 - val_accuracy: 0.7569\n",
      "Epoch 17/100\n",
      "15152/15152 [==============================] - 7s 435us/sample - loss: 0.2011 - accuracy: 0.9209 - val_loss: 0.4582 - val_accuracy: 0.7862\n",
      "Epoch 18/100\n",
      "15152/15152 [==============================] - 11s 758us/sample - loss: 0.1982 - accuracy: 0.9212 - val_loss: 0.5749 - val_accuracy: 0.7545\n",
      "Epoch 19/100\n",
      "15152/15152 [==============================] - 9s 623us/sample - loss: 0.1976 - accuracy: 0.9225 - val_loss: 0.4980 - val_accuracy: 0.8014\n",
      "Epoch 20/100\n",
      "15152/15152 [==============================] - 16s 1ms/sample - loss: 0.1998 - accuracy: 0.9201 - val_loss: 0.5089 - val_accuracy: 0.7858\n",
      "Epoch 21/100\n",
      "15152/15152 [==============================] - 9s 562us/sample - loss: 0.2009 - accuracy: 0.9211 - val_loss: 0.5450 - val_accuracy: 0.7767\n",
      "Epoch 22/100\n",
      "15152/15152 [==============================] - 7s 471us/sample - loss: 0.1972 - accuracy: 0.9232 - val_loss: 0.5239 - val_accuracy: 0.7864\n",
      "Epoch 23/100\n",
      "15152/15152 [==============================] - 8s 514us/sample - loss: 0.1916 - accuracy: 0.9232 - val_loss: 0.5030 - val_accuracy: 0.7923\n",
      "Epoch 24/100\n",
      "15152/15152 [==============================] - 15s 999us/sample - loss: 0.1939 - accuracy: 0.9229 - val_loss: 0.5685 - val_accuracy: 0.7654\n",
      "Epoch 25/100\n",
      "15152/15152 [==============================] - 12s 784us/sample - loss: 0.1897 - accuracy: 0.9247 - val_loss: 0.5518 - val_accuracy: 0.7933\n",
      "Epoch 26/100\n",
      "15152/15152 [==============================] - 10s 685us/sample - loss: 0.1889 - accuracy: 0.9238 - val_loss: 0.5950 - val_accuracy: 0.7769\n",
      "Epoch 27/100\n",
      "15152/15152 [==============================] - 8s 552us/sample - loss: 0.1794 - accuracy: 0.9274 - val_loss: 0.5706 - val_accuracy: 0.7773\n",
      "Epoch 28/100\n",
      "15152/15152 [==============================] - 10s 678us/sample - loss: 0.1872 - accuracy: 0.9287 - val_loss: 0.5264 - val_accuracy: 0.7947\n",
      "Epoch 29/100\n",
      "15152/15152 [==============================] - 10s 640us/sample - loss: 0.1802 - accuracy: 0.9305 - val_loss: 0.5795 - val_accuracy: 0.7781\n",
      "Epoch 30/100\n",
      "15152/15152 [==============================] - 10s 643us/sample - loss: 0.1870 - accuracy: 0.9293 - val_loss: 0.5713 - val_accuracy: 0.7860\n",
      "Epoch 31/100\n",
      "15152/15152 [==============================] - 12s 796us/sample - loss: 0.1785 - accuracy: 0.9291 - val_loss: 0.5827 - val_accuracy: 0.7757\n",
      "Epoch 32/100\n",
      "15152/15152 [==============================] - 9s 606us/sample - loss: 0.1785 - accuracy: 0.9302 - val_loss: 0.5549 - val_accuracy: 0.7832\n",
      "Epoch 33/100\n",
      "15152/15152 [==============================] - 10s 665us/sample - loss: 0.1779 - accuracy: 0.9285 - val_loss: 0.5704 - val_accuracy: 0.7888\n",
      "Epoch 34/100\n",
      "15152/15152 [==============================] - 11s 752us/sample - loss: 0.1760 - accuracy: 0.9324 - val_loss: 0.5485 - val_accuracy: 0.7989\n",
      "Epoch 35/100\n",
      "15152/15152 [==============================] - 14s 891us/sample - loss: 0.1752 - accuracy: 0.9310 - val_loss: 0.5909 - val_accuracy: 0.7676\n",
      "Epoch 36/100\n",
      "15152/15152 [==============================] - 12s 817us/sample - loss: 0.1775 - accuracy: 0.9304 - val_loss: 0.6229 - val_accuracy: 0.7846\n",
      "Epoch 37/100\n",
      "15152/15152 [==============================] - 10s 633us/sample - loss: 0.1714 - accuracy: 0.9329 - val_loss: 0.5535 - val_accuracy: 0.8032\n",
      "Epoch 38/100\n",
      "15152/15152 [==============================] - 8s 516us/sample - loss: 0.1785 - accuracy: 0.9306 - val_loss: 0.5504 - val_accuracy: 0.8030\n",
      "Epoch 39/100\n",
      "15152/15152 [==============================] - 11s 752us/sample - loss: 0.1739 - accuracy: 0.9330 - val_loss: 0.6052 - val_accuracy: 0.8076\n",
      "Epoch 40/100\n",
      "15152/15152 [==============================] - 13s 867us/sample - loss: 0.1673 - accuracy: 0.9339 - val_loss: 0.5619 - val_accuracy: 0.7977\n",
      "Epoch 41/100\n",
      "15152/15152 [==============================] - 13s 873us/sample - loss: 0.1655 - accuracy: 0.9331 - val_loss: 0.6640 - val_accuracy: 0.7854\n",
      "Epoch 42/100\n",
      "15152/15152 [==============================] - 10s 671us/sample - loss: 0.1700 - accuracy: 0.9332 - val_loss: 0.6143 - val_accuracy: 0.7985\n",
      "Epoch 43/100\n",
      "15152/15152 [==============================] - 10s 650us/sample - loss: 0.1659 - accuracy: 0.9345 - val_loss: 0.6124 - val_accuracy: 0.7987\n",
      "Epoch 44/100\n",
      "15152/15152 [==============================] - 9s 596us/sample - loss: 0.1641 - accuracy: 0.9343 - val_loss: 0.6425 - val_accuracy: 0.7985\n",
      "Epoch 45/100\n",
      "15152/15152 [==============================] - 10s 676us/sample - loss: 0.1676 - accuracy: 0.9372 - val_loss: 0.5907 - val_accuracy: 0.8008\n",
      "Epoch 46/100\n"
     ]
    },
    {
     "name": "stdout",
     "output_type": "stream",
     "text": [
      "15152/15152 [==============================] - 8s 500us/sample - loss: 0.1618 - accuracy: 0.9368 - val_loss: 0.6963 - val_accuracy: 0.7893\n",
      "Epoch 47/100\n",
      "15152/15152 [==============================] - 7s 456us/sample - loss: 0.1605 - accuracy: 0.9339 - val_loss: 0.6589 - val_accuracy: 0.7933\n",
      "Epoch 48/100\n",
      "15152/15152 [==============================] - 7s 445us/sample - loss: 0.1606 - accuracy: 0.9387 - val_loss: 0.6507 - val_accuracy: 0.7935\n",
      "Epoch 49/100\n",
      "15152/15152 [==============================] - 7s 486us/sample - loss: 0.1575 - accuracy: 0.9390 - val_loss: 0.6897 - val_accuracy: 0.7927\n",
      "Epoch 50/100\n",
      "15152/15152 [==============================] - 7s 483us/sample - loss: 0.1619 - accuracy: 0.9367 - val_loss: 0.6560 - val_accuracy: 0.7899\n",
      "Epoch 51/100\n",
      "15152/15152 [==============================] - 8s 499us/sample - loss: 0.1564 - accuracy: 0.9390 - val_loss: 0.6677 - val_accuracy: 0.7953\n",
      "Epoch 52/100\n",
      "15152/15152 [==============================] - 8s 536us/sample - loss: 0.1596 - accuracy: 0.9380 - val_loss: 0.7105 - val_accuracy: 0.7886\n",
      "Epoch 53/100\n",
      "15152/15152 [==============================] - 10s 672us/sample - loss: 0.1594 - accuracy: 0.9373 - val_loss: 0.6721 - val_accuracy: 0.8042\n",
      "Epoch 54/100\n",
      "15152/15152 [==============================] - 16s 1ms/sample - loss: 0.1584 - accuracy: 0.9395 - val_loss: 0.6424 - val_accuracy: 0.7987\n",
      "Epoch 55/100\n",
      "15152/15152 [==============================] - 11s 718us/sample - loss: 0.1605 - accuracy: 0.9375 - val_loss: 0.7196 - val_accuracy: 0.7969\n",
      "Epoch 56/100\n",
      "15152/15152 [==============================] - 8s 513us/sample - loss: 0.1565 - accuracy: 0.9401 - val_loss: 0.7116 - val_accuracy: 0.7933\n",
      "Epoch 57/100\n",
      "15152/15152 [==============================] - 8s 550us/sample - loss: 0.1565 - accuracy: 0.9406 - val_loss: 0.7275 - val_accuracy: 0.8000\n",
      "Epoch 58/100\n",
      "15152/15152 [==============================] - 8s 528us/sample - loss: 0.1517 - accuracy: 0.9419 - val_loss: 0.6699 - val_accuracy: 0.7953\n",
      "Epoch 59/100\n",
      "15152/15152 [==============================] - 8s 535us/sample - loss: 0.1526 - accuracy: 0.9393 - val_loss: 0.6649 - val_accuracy: 0.7947\n",
      "Epoch 60/100\n",
      "15152/15152 [==============================] - 8s 541us/sample - loss: 0.1511 - accuracy: 0.9392 - val_loss: 0.7026 - val_accuracy: 0.7868\n",
      "Epoch 61/100\n",
      "15152/15152 [==============================] - 8s 521us/sample - loss: 0.1544 - accuracy: 0.9429 - val_loss: 0.6999 - val_accuracy: 0.7892\n",
      "Epoch 62/100\n",
      "15152/15152 [==============================] - 8s 554us/sample - loss: 0.1557 - accuracy: 0.9391 - val_loss: 0.6901 - val_accuracy: 0.7957\n",
      "Epoch 63/100\n",
      "15152/15152 [==============================] - 8s 541us/sample - loss: 0.1538 - accuracy: 0.9415 - val_loss: 0.6891 - val_accuracy: 0.7846\n",
      "Epoch 64/100\n",
      "15152/15152 [==============================] - 9s 616us/sample - loss: 0.1449 - accuracy: 0.9418 - val_loss: 0.7198 - val_accuracy: 0.7808\n",
      "Epoch 65/100\n",
      "15152/15152 [==============================] - 12s 814us/sample - loss: 0.1485 - accuracy: 0.9415 - val_loss: 0.7208 - val_accuracy: 0.7901\n",
      "Epoch 66/100\n",
      "15152/15152 [==============================] - 8s 517us/sample - loss: 0.1499 - accuracy: 0.9429 - val_loss: 0.6579 - val_accuracy: 0.7959\n",
      "Epoch 67/100\n",
      "15152/15152 [==============================] - 8s 519us/sample - loss: 0.1475 - accuracy: 0.9436 - val_loss: 0.6639 - val_accuracy: 0.7981\n",
      "Epoch 68/100\n",
      "15152/15152 [==============================] - 8s 515us/sample - loss: 0.1482 - accuracy: 0.9435 - val_loss: 0.7023 - val_accuracy: 0.7963\n",
      "Epoch 69/100\n",
      "15152/15152 [==============================] - 8s 557us/sample - loss: 0.1483 - accuracy: 0.9432 - val_loss: 0.7646 - val_accuracy: 0.7929\n",
      "Epoch 70/100\n",
      "15152/15152 [==============================] - 8s 542us/sample - loss: 0.1477 - accuracy: 0.9426 - val_loss: 0.6774 - val_accuracy: 0.7967\n",
      "Epoch 71/100\n",
      "15152/15152 [==============================] - 12s 799us/sample - loss: 0.1445 - accuracy: 0.9444 - val_loss: 0.7055 - val_accuracy: 0.7945\n",
      "Epoch 72/100\n",
      "15152/15152 [==============================] - 9s 588us/sample - loss: 0.1417 - accuracy: 0.9467 - val_loss: 0.7904 - val_accuracy: 0.7913\n",
      "Epoch 73/100\n",
      "15152/15152 [==============================] - 10s 692us/sample - loss: 0.1411 - accuracy: 0.9454 - val_loss: 0.8308 - val_accuracy: 0.7832\n",
      "Epoch 74/100\n",
      "15152/15152 [==============================] - 9s 605us/sample - loss: 0.1411 - accuracy: 0.9444 - val_loss: 0.7725 - val_accuracy: 0.7824\n",
      "Epoch 75/100\n",
      "15152/15152 [==============================] - 14s 915us/sample - loss: 0.1413 - accuracy: 0.9456 - val_loss: 0.7359 - val_accuracy: 0.7840\n",
      "Epoch 76/100\n",
      "15152/15152 [==============================] - 12s 790us/sample - loss: 0.1394 - accuracy: 0.9470 - val_loss: 0.7585 - val_accuracy: 0.7840\n",
      "Epoch 77/100\n",
      "15152/15152 [==============================] - 13s 880us/sample - loss: 0.1419 - accuracy: 0.9449 - val_loss: 0.8447 - val_accuracy: 0.7836\n",
      "Epoch 78/100\n",
      "15152/15152 [==============================] - 9s 602us/sample - loss: 0.1409 - accuracy: 0.9454 - val_loss: 0.7775 - val_accuracy: 0.7812\n",
      "Epoch 79/100\n",
      "15152/15152 [==============================] - 7s 453us/sample - loss: 0.1428 - accuracy: 0.9442 - val_loss: 0.7142 - val_accuracy: 0.7820\n",
      "Epoch 80/100\n",
      "15152/15152 [==============================] - 8s 521us/sample - loss: 0.1364 - accuracy: 0.9488 - val_loss: 0.8167 - val_accuracy: 0.7785\n",
      "Epoch 81/100\n",
      "15152/15152 [==============================] - 8s 528us/sample - loss: 0.1347 - accuracy: 0.9485 - val_loss: 0.7570 - val_accuracy: 0.7864\n",
      "Epoch 82/100\n",
      "15152/15152 [==============================] - 14s 943us/sample - loss: 0.1311 - accuracy: 0.9485 - val_loss: 0.8621 - val_accuracy: 0.7866\n",
      "Epoch 83/100\n",
      "15152/15152 [==============================] - 10s 682us/sample - loss: 0.1389 - accuracy: 0.9460 - val_loss: 0.8587 - val_accuracy: 0.7856\n",
      "Epoch 84/100\n",
      "15152/15152 [==============================] - 9s 594us/sample - loss: 0.1365 - accuracy: 0.9481 - val_loss: 0.9080 - val_accuracy: 0.7838\n",
      "Epoch 85/100\n",
      "15152/15152 [==============================] - 11s 744us/sample - loss: 0.1304 - accuracy: 0.9480 - val_loss: 1.1262 - val_accuracy: 0.7775\n",
      "Epoch 86/100\n",
      "15152/15152 [==============================] - 14s 928us/sample - loss: 0.1324 - accuracy: 0.9502 - val_loss: 0.9348 - val_accuracy: 0.7860\n",
      "Epoch 87/100\n",
      "15152/15152 [==============================] - 13s 884us/sample - loss: 0.1365 - accuracy: 0.9479 - val_loss: 0.9789 - val_accuracy: 0.7816\n",
      "Epoch 88/100\n",
      "15152/15152 [==============================] - 9s 617us/sample - loss: 0.1395 - accuracy: 0.9474 - val_loss: 0.9696 - val_accuracy: 0.7705\n",
      "Epoch 89/100\n",
      "15152/15152 [==============================] - 7s 470us/sample - loss: 0.1325 - accuracy: 0.9481 - val_loss: 1.1685 - val_accuracy: 0.7725\n",
      "Epoch 90/100\n",
      "15152/15152 [==============================] - 8s 512us/sample - loss: 0.1314 - accuracy: 0.9502 - val_loss: 1.0965 - val_accuracy: 0.7727\n",
      "Epoch 91/100\n",
      "15152/15152 [==============================] - 6s 421us/sample - loss: 0.1306 - accuracy: 0.9502 - val_loss: 0.9562 - val_accuracy: 0.7785\n",
      "Epoch 92/100\n",
      "15152/15152 [==============================] - 12s 776us/sample - loss: 0.1347 - accuracy: 0.9496 - val_loss: 1.0078 - val_accuracy: 0.7664\n",
      "Epoch 93/100\n",
      "15152/15152 [==============================] - 17s 1ms/sample - loss: 0.1271 - accuracy: 0.9510 - val_loss: 1.0595 - val_accuracy: 0.7654\n",
      "Epoch 94/100\n",
      "15152/15152 [==============================] - 11s 741us/sample - loss: 0.1327 - accuracy: 0.9491 - val_loss: 1.2486 - val_accuracy: 0.7549\n",
      "Epoch 95/100\n",
      "15152/15152 [==============================] - 11s 710us/sample - loss: 0.1267 - accuracy: 0.9516 - val_loss: 1.1963 - val_accuracy: 0.7660\n",
      "Epoch 96/100\n",
      "15152/15152 [==============================] - 11s 749us/sample - loss: 0.1263 - accuracy: 0.9516 - val_loss: 1.1276 - val_accuracy: 0.7626\n",
      "Epoch 97/100\n",
      "15152/15152 [==============================] - 11s 740us/sample - loss: 0.1359 - accuracy: 0.9489 - val_loss: 1.0231 - val_accuracy: 0.7711\n",
      "Epoch 98/100\n",
      "15152/15152 [==============================] - 11s 747us/sample - loss: 0.1310 - accuracy: 0.9509 - val_loss: 1.0098 - val_accuracy: 0.7733\n",
      "Epoch 99/100\n",
      "15152/15152 [==============================] - 11s 756us/sample - loss: 0.1285 - accuracy: 0.9512 - val_loss: 1.2713 - val_accuracy: 0.7620\n"
     ]
    },
    {
     "name": "stdout",
     "output_type": "stream",
     "text": [
      "Epoch 100/100\n",
      "15152/15152 [==============================] - 12s 774us/sample - loss: 0.1314 - accuracy: 0.9495 - val_loss: 1.1553 - val_accuracy: 0.7654\n"
     ]
    }
   ],
   "source": [
    "import numpy as np\n",
    "import tensorflow as tf\n",
    "from tensorflow.keras.layers import *\n",
    "from tensorflow.keras.models import *\n",
    "\n",
    "## define variable\n",
    "n_sample = len(X_train)\n",
    "text_len = 100\n",
    "\n",
    "## create dummy data\n",
    "# x_train = np.random.uniform(0,1, (n_sample,text_len))\n",
    "# y_train = np.random.randint(0,2, n_sample)\n",
    "\n",
    "# print(x_train.shape, y_train.shape)\n",
    "\n",
    "# print(type(x_train), type(y_train.shape))\n",
    "\n",
    "\n",
    "\n",
    "\n",
    "# ## expand train dimnesion: pass from 2d to 3d\n",
    "X_train = np.expand_dims(X_train, axis=1)\n",
    "X_test = np.expand_dims(X_test, axis=1)\n",
    "# print(x_train.shape, y_train.shape)\n",
    "\n",
    "## create model\n",
    "inp = Input(shape=(1,text_len))\n",
    "conv2 = Conv1D(filters=128, kernel_size=5, activation='relu', padding='same')(inp)\n",
    "drop21 = Dropout(0.5)(conv2)\n",
    "conv22 = Conv1D(filters=64, kernel_size=5, activation='relu', padding='same')(drop21)\n",
    "drop22 = Dropout(0.5)(conv22)\n",
    "pool2 = Flatten()(drop22) # this is an option to pass from 3d to 2d\n",
    "out = Dense(2, activation='softmax')(pool2) # the output dim must be equal to the num of class if u use softmax\n",
    "\n",
    "model = Model(inp, out)\n",
    "model.compile(loss='sparse_categorical_crossentropy', optimizer='adam', metrics=['accuracy'])\n",
    "model.summary()\n",
    "history = model.fit(X_train, Y_train, epochs=100,\n",
    "                    validation_data=(X_test, Y_test))"
   ]
  },
  {
   "cell_type": "code",
   "execution_count": null,
   "metadata": {},
   "outputs": [],
   "source": []
  }
 ],
 "metadata": {
  "kernelspec": {
   "display_name": "Python 3",
   "language": "python",
   "name": "python3"
  },
  "language_info": {
   "codemirror_mode": {
    "name": "ipython",
    "version": 3
   },
   "file_extension": ".py",
   "mimetype": "text/x-python",
   "name": "python",
   "nbconvert_exporter": "python",
   "pygments_lexer": "ipython3",
   "version": "3.7.3"
  }
 },
 "nbformat": 4,
 "nbformat_minor": 4
}

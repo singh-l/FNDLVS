{
 "cells": [
  {
   "cell_type": "markdown",
   "metadata": {},
   "source": [
    "### This module does basic preprocessing to create the files containing only statement and label, we use these files in vector ( tfidf and doc2vec ) models"
   ]
  },
  {
   "cell_type": "code",
   "execution_count": 1,
   "metadata": {
    "scrolled": true
   },
   "outputs": [],
   "source": [
    "#make necessary imports\n",
    "import os\n",
    "import pandas as pd\n",
    "\n",
    "#go to the required directory\n",
    "os.chdir(\"../datasets\")"
   ]
  },
  {
   "cell_type": "code",
   "execution_count": 2,
   "metadata": {},
   "outputs": [
    {
     "data": {
      "text/plain": [
       "'/Users/lovedeepsingh/Desktop/RP/datasets'"
      ]
     },
     "execution_count": 2,
     "metadata": {},
     "output_type": "execute_result"
    }
   ],
   "source": [
    "#get current working directory\n",
    "os.getcwd()"
   ]
  },
  {
   "cell_type": "code",
   "execution_count": 3,
   "metadata": {},
   "outputs": [],
   "source": [
    "#utility function to create files with only text and labels, \n",
    "#these files are used in vector models of tfidf and doc2vec\n",
    "def createfiles(path):\n",
    "    df=pd.read_csv(path, sep='\\t', header=None)\n",
    "    df=df.drop([0,3,4,5,6,7,8,9,10,11,12,13], axis=1)\n",
    "    df=df.drop_duplicates()\n",
    "    df.loc[(df[1] == 'false') | (df[1] == 'pants-fire') | (df[1] == 'barely-true') , 1] = 0\n",
    "    df.loc[df[1] != 0 , 1] = 1\n",
    "    df=df.rename(columns={1:'label',2:'statement'})\n",
    "    columns_titles = [\"statement\",\"label\"]\n",
    "    df=df.reindex(columns=columns_titles)\n",
    "    df['id'] = 0\n",
    "    df['id'] = df.index + 880\n",
    "    x=path.find('.')\n",
    "    df.to_csv('liar_tweaked' + path[13:x] + 'vectordata.csv')\n",
    "    return df"
   ]
  },
  {
   "cell_type": "code",
   "execution_count": 4,
   "metadata": {},
   "outputs": [
    {
     "data": {
      "text/html": [
       "<div>\n",
       "<style scoped>\n",
       "    .dataframe tbody tr th:only-of-type {\n",
       "        vertical-align: middle;\n",
       "    }\n",
       "\n",
       "    .dataframe tbody tr th {\n",
       "        vertical-align: top;\n",
       "    }\n",
       "\n",
       "    .dataframe thead th {\n",
       "        text-align: right;\n",
       "    }\n",
       "</style>\n",
       "<table border=\"1\" class=\"dataframe\">\n",
       "  <thead>\n",
       "    <tr style=\"text-align: right;\">\n",
       "      <th></th>\n",
       "      <th>statement</th>\n",
       "      <th>label</th>\n",
       "      <th>id</th>\n",
       "    </tr>\n",
       "  </thead>\n",
       "  <tbody>\n",
       "    <tr>\n",
       "      <th>0</th>\n",
       "      <td>We have less Americans working now than in the...</td>\n",
       "      <td>0</td>\n",
       "      <td>880</td>\n",
       "    </tr>\n",
       "    <tr>\n",
       "      <th>1</th>\n",
       "      <td>When Obama was sworn into office, he DID NOT u...</td>\n",
       "      <td>0</td>\n",
       "      <td>881</td>\n",
       "    </tr>\n",
       "    <tr>\n",
       "      <th>2</th>\n",
       "      <td>Says Having organizations parading as being so...</td>\n",
       "      <td>0</td>\n",
       "      <td>882</td>\n",
       "    </tr>\n",
       "    <tr>\n",
       "      <th>3</th>\n",
       "      <td>Says nearly half of Oregons children are poor.</td>\n",
       "      <td>1</td>\n",
       "      <td>883</td>\n",
       "    </tr>\n",
       "    <tr>\n",
       "      <th>4</th>\n",
       "      <td>On attacks by Republicans that various program...</td>\n",
       "      <td>1</td>\n",
       "      <td>884</td>\n",
       "    </tr>\n",
       "    <tr>\n",
       "      <th>...</th>\n",
       "      <td>...</td>\n",
       "      <td>...</td>\n",
       "      <td>...</td>\n",
       "    </tr>\n",
       "    <tr>\n",
       "      <th>1279</th>\n",
       "      <td>For the first time in more than a decade, impo...</td>\n",
       "      <td>1</td>\n",
       "      <td>2159</td>\n",
       "    </tr>\n",
       "    <tr>\n",
       "      <th>1280</th>\n",
       "      <td>Says Donald Trump has bankrupted his companies...</td>\n",
       "      <td>1</td>\n",
       "      <td>2160</td>\n",
       "    </tr>\n",
       "    <tr>\n",
       "      <th>1281</th>\n",
       "      <td>John McCain and George Bush have \"absolutely n...</td>\n",
       "      <td>1</td>\n",
       "      <td>2161</td>\n",
       "    </tr>\n",
       "    <tr>\n",
       "      <th>1282</th>\n",
       "      <td>A new poll shows 62 percent support the presid...</td>\n",
       "      <td>0</td>\n",
       "      <td>2162</td>\n",
       "    </tr>\n",
       "    <tr>\n",
       "      <th>1283</th>\n",
       "      <td>No one claims the report vindicating New Jerse...</td>\n",
       "      <td>0</td>\n",
       "      <td>2163</td>\n",
       "    </tr>\n",
       "  </tbody>\n",
       "</table>\n",
       "<p>1284 rows × 3 columns</p>\n",
       "</div>"
      ],
      "text/plain": [
       "                                              statement label    id\n",
       "0     We have less Americans working now than in the...     0   880\n",
       "1     When Obama was sworn into office, he DID NOT u...     0   881\n",
       "2     Says Having organizations parading as being so...     0   882\n",
       "3        Says nearly half of Oregons children are poor.     1   883\n",
       "4     On attacks by Republicans that various program...     1   884\n",
       "...                                                 ...   ...   ...\n",
       "1279  For the first time in more than a decade, impo...     1  2159\n",
       "1280  Says Donald Trump has bankrupted his companies...     1  2160\n",
       "1281  John McCain and George Bush have \"absolutely n...     1  2161\n",
       "1282  A new poll shows 62 percent support the presid...     0  2162\n",
       "1283  No one claims the report vindicating New Jerse...     0  2163\n",
       "\n",
       "[1284 rows x 3 columns]"
      ]
     },
     "execution_count": 4,
     "metadata": {},
     "output_type": "execute_result"
    }
   ],
   "source": [
    "#calling the utility function to create the required files of data\n",
    "createfiles('liar_original/train.tsv')\n",
    "createfiles('liar_original/test.tsv')\n",
    "createfiles('liar_original/valid.tsv')"
   ]
  },
  {
   "cell_type": "code",
   "execution_count": null,
   "metadata": {},
   "outputs": [],
   "source": []
  }
 ],
 "metadata": {
  "kernelspec": {
   "display_name": "Python 3",
   "language": "python",
   "name": "python3"
  },
  "language_info": {
   "codemirror_mode": {
    "name": "ipython",
    "version": 3
   },
   "file_extension": ".py",
   "mimetype": "text/x-python",
   "name": "python",
   "nbconvert_exporter": "python",
   "pygments_lexer": "ipython3",
   "version": "3.7.3"
  }
 },
 "nbformat": 4,
 "nbformat_minor": 4
}
